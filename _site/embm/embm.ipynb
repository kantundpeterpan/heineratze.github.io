{
  "cells": [
    {
      "cell_type": "markdown",
      "metadata": {},
      "source": [
        "# Open-source implemention and large-scale extension of enzyme\n",
        "\n",
        "mechanism-based modeling (EMBM)\n",
        "\n",
        "Target structure independent virtual screening of covalent inhibitors\n",
        "\n",
        "Heiner Atze\n",
        "\n",
        "We do not really need this either, but it is also fun.\n",
        "\n",
        "# Introduction\n",
        "\n",
        "# Methods\n",
        "\n",
        "## Open-source implementation of W1 and W2 descriptors\n",
        "\n",
        "## Benchmarking other semi-empirical QM methods\n",
        "\n",
        "-   xTB\n",
        "-   DFT-TB\n",
        "\n",
        "## Large-scale application\n",
        "\n",
        "### Datasets\n",
        "\n",
        "#### Kinases"
      ],
      "id": "3efd4bca-38b5-4a61-858d-0ce859ae991e"
    }
  ],
  "nbformat": 4,
  "nbformat_minor": 5,
  "metadata": {
    "kernelspec": {
      "display_name": "Python 3",
      "language": "python",
      "name": "python3"
    }
  }
}
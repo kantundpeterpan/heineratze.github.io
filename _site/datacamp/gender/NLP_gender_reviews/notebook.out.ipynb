{
  "cells": [
    {
      "cell_type": "markdown",
      "metadata": {},
      "source": [
        "# Do students describe professors differently based on gender?\n",
        "\n",
        "Datacamp & Heiner Atze\n",
        "\n",
        "*Note: You can consult the solution of this live training in the file\n",
        "browser as `notebook-solution.ipynb`*\n",
        "\n",
        "Language plays a crucial role in shaping our perceptions and attitudes\n",
        "towards gender in the workplace, in classrooms, and personal\n",
        "relationships. Studies have shown that gender bias in language can have\n",
        "a significant impact on the way people are perceived and treated.\n",
        "\n",
        "For example, research has found that job advertisements that use\n",
        "masculine-coded language tend to attract more male applicants, while\n",
        "those that use feminine-coded language tend to attract more female\n",
        "applicants. Similarly, gendered language can perpetuate differences in\n",
        "the classroom.\n",
        "\n",
        "In this project, we’ll using scraped student reviews from\n",
        "[ratemyprofessors.com](https://ratemyprofessors.com) to identify\n",
        "differences in language commonly used for male vs. female professors,\n",
        "and explore subtleties in how language in the classroom can be gendered.\n",
        "\n",
        "This excellent\n",
        "[tool](https://benschmidt.org/profGender/#%7B%22database%22%3A%22RMP%22%2C%22plotType%22%3A%22pointchart%22%2C%22method%22%3A%22return_json%22%2C%22search_limits%22%3A%7B%22word%22%3A%5B%22aggressive%22%5D%2C%22department__id%22%3A%7B%22%24lte%22%3A25%7D%2C%22rHelpful%22%3A%5B1%2C2%5D%2C%22rClarity%22%3A%5B1%2C2%5D%7D%2C%22aesthetic%22%3A%7B%22x%22%3A%22WordsPerMillion%22%2C%22y%22%3A%22department%22%2C%22color%22%3A%22gender%22%7D%2C%22counttype%22%3A%5B%22WordsPerMillion%22%5D%2C%22groups%22%3A%5B%22department%22%2C%22gender%22%5D%2C%22testGroup%22%3A%22C%22%7D)\n",
        "created by Ben Schmidt allows us to enter the words and phrases that we\n",
        "find in our analysis and explore them in more depth. We’ll do this at\n",
        "the end.\n",
        "\n",
        "Catalyst also does some incredible work on\n",
        "[decoding](https://www.catalyst.org/2015/05/07/can-you-spot-the-gender-bias-in-this-job-description/)\n",
        "gendered language.\n",
        "\n",
        "# 1. Scraping the web for reviews of professors\n",
        "\n",
        "Text data––especially gendered text data, is hard to come by. Web\n",
        "scraping can be a helpful data collection tool when datasets are unable\n",
        "for this kind of work. We can write web scrapers to compile datasets on\n",
        "job descriptions, freelancer reviews, and, as in our use-case, professor\n",
        "reviews by students.\n",
        "\n",
        "[ratemyprofessors.com](https://www.ratemyprofessors.com/professor?tid=589)\n",
        "provides a wonderful combination of qualitative and quantitative metrics\n",
        "that we can analyze.\n",
        "\n",
        "Although the data on their websites is not labeled by gender, we’ll use\n",
        "pronouns used by students to label professors “Male” or “Female”. Of\n",
        "course, this approach is not perfect, as it relies on the *students’*\n",
        "use of pronouns. Professors with non-binary pronouns will also be\n",
        "under-represented in the data, since very few reviews will have them,\n",
        "and so it’s not trivial to write an algorithm to detect them. These are\n",
        "definitely important questions in the world of gender analysis though,\n",
        "so we encourage you to pick them up as extensions of this project!\n",
        "\n",
        "### Task 1a. What relevant packages do we need for web scraping and reading in data?\n",
        "\n",
        "let’s see if some text does the trick"
      ],
      "id": "d235a466-e864-41bc-b70b-5aa00e66f94b"
    },
    {
      "cell_type": "code",
      "execution_count": 78,
      "metadata": {
        "executionCancelledAt": null,
        "executionTime": 31,
        "jupyter": {
          "outputs_hidden": false,
          "source_hidden": false
        },
        "lastExecutedAt": 1719766529332,
        "lastExecutedByKernel": "f6c43d9d-c556-42d8-9544-e49e4eaa9fbc",
        "lastScheduledRunId": null,
        "lastSuccessfullyExecutedCode": ""
      },
      "outputs": [],
      "source": [
        "#\n",
        "import requests\n",
        "#Used to parse html\n",
        "from lxml import etree\n",
        "#Used to pause code intermittently so that our scraper is not blocked\n",
        "import time\n",
        "#For data manipulation and analysis\n",
        "import pandas as pd\n",
        "#To access our data filenames so we can read them\n",
        "import os"
      ],
      "id": "5d32b671-a5a9-4b1c-b730-dbd276406a93"
    },
    {
      "cell_type": "markdown",
      "metadata": {},
      "source": [
        "### Task 1b. Which professors will we be looking at?\n",
        "\n",
        "The `web_scraping.ipynb` notebook provided in this workspace provides\n",
        "some code using selenium that was used to find urls from\n",
        "[ratemyprofessors.com](https://ratemyprofessors.com) that we’ll be\n",
        "scraping in this notebook.\n",
        "\n",
        "Whilst the specific selenium code used to generate this list of URLs is\n",
        "beyond what we can cover today, we encourage you to explore this code to\n",
        "understand how we generated this list of professors!\n",
        "\n",
        "For now, we’ll open the file `profs_888.txt` and read each professor’s\n",
        "url in a new line, and save this variable as `profs`."
      ],
      "id": "701d8d3b-e028-475e-81bd-dc479c65fea3"
    },
    {
      "cell_type": "code",
      "execution_count": 79,
      "metadata": {
        "executionCancelledAt": null,
        "executionTime": 180,
        "lastExecutedAt": 1719766529512,
        "lastExecutedByKernel": "f6c43d9d-c556-42d8-9544-e49e4eaa9fbc",
        "lastScheduledRunId": null,
        "lastSuccessfullyExecutedCode": "with open(r'profs_1244.txt', 'r') as f:     profs = [x.strip() for x in f.readlines()]",
        "tags": []
      },
      "outputs": [],
      "source": [
        "# maybe we need to start with a comment\n",
        "with open(r'profs_1244.txt', 'r') as f:\n",
        "    profs = [x.strip() for x in f.readlines()]\n",
        "#if\n",
        "#this\n",
        "#is\n",
        "#getting\n",
        "#a\n",
        "# reall\n",
        "#really\n",
        "#really\n",
        "#long\n",
        "#comment\n",
        "#maybe\n",
        "#the\n",
        "#error\n",
        "#can\n",
        "#be\n",
        "#reproduced"
      ],
      "id": "83b8efe1-4c75-4755-9534-a8889b82c6d6"
    },
    {
      "cell_type": "code",
      "execution_count": 80,
      "metadata": {
        "executionCancelledAt": null,
        "executionTime": 52,
        "lastExecutedAt": 1719766529566,
        "lastExecutedByKernel": "f6c43d9d-c556-42d8-9544-e49e4eaa9fbc",
        "lastScheduledRunId": null,
        "lastSuccessfullyExecutedCode": "profs[0]"
      },
      "outputs": [
        {
          "output_type": "display_data",
          "metadata": {},
          "data": {
            "text/plain": [
              "'https://www.ratemyprofessors.com/professor?tid=398'"
            ]
          }
        }
      ],
      "source": [
        "profs[0]"
      ],
      "id": "22e4d4d2-d11a-44a1-95bd-f03b37f1fcc4"
    },
    {
      "cell_type": "markdown",
      "metadata": {},
      "source": [
        "### Task 1c. How can we use urls to scrape relevant data about professors?\n",
        "\n",
        "Each professor has an overall rating that looks like this\n",
        "<img src=\"img/overall_rating_example.png\"  width=\"400\">\n",
        "\n",
        "and a series of reviews that look like this ![Review\n",
        "example](attachment:img/review_example.png)\n",
        "\n",
        "The code below can be used to iterate through all or part of the list of\n",
        "urls in `profs`, and scrape them for qualtiative and quantitative data.\n",
        "**You won’t need to run through this whole list though, because the\n",
        "`data/` folder already contains the reviews of several professors that\n",
        "we have scraped for you!**\n",
        "\n",
        "-   The overall rating for the professor\n",
        "-   All the individual reviews written by students about the professor\n",
        "-   The “emotion” corresponding to each individual review: `😎 AWESOME`,\n",
        "    `😐 AVERAGE`, or `😖 AWFUL`\n",
        "-   A numerical “quality” rating corresponding to each individual review\n",
        "\n",
        "We won’t be using the “difficulty” ratings shown here."
      ],
      "attachments": {
        "img/review_example.png": {
          "image/png": "[encoded data removed]"
        }
      },
      "id": "9ea0759c-d870-4f32-a709-c4379a02ae38"
    },
    {
      "cell_type": "code",
      "execution_count": 81,
      "metadata": {
        "executionCancelledAt": null,
        "executionTime": 54,
        "lastExecutedAt": 1719766529620,
        "lastExecutedByKernel": "f6c43d9d-c556-42d8-9544-e49e4eaa9fbc",
        "lastScheduledRunId": null,
        "lastSuccessfullyExecutedCode": "from io import StringIO"
      },
      "outputs": [],
      "source": [
        "from io import StringIO"
      ],
      "id": "68bb1e9b-dbda-45fe-8ba3-ba3d8110d3eb"
    },
    {
      "cell_type": "code",
      "execution_count": 82,
      "metadata": {
        "executionCancelledAt": null,
        "executionTime": 47,
        "lastExecutedAt": 1719766529668,
        "lastExecutedByKernel": "f6c43d9d-c556-42d8-9544-e49e4eaa9fbc",
        "lastScheduledRunId": null,
        "lastSuccessfullyExecutedCode": "import numpy as np"
      },
      "outputs": [],
      "source": [
        "import numpy as np"
      ],
      "id": "9fc15814-5c07-4691-a9f3-76e0d73e3030"
    },
    {
      "cell_type": "markdown",
      "metadata": {},
      "source": [
        "::: {#432d6789-8153-4de1-baae-ae211ca49c23 .cell\n",
        "executionCancelledAt=‘null’ executionTime=‘36228’\n",
        "jupyter=‘{“outputs_hidden”:false,“source_hidden”:false}’\n",
        "lastExecutedAt=‘1719766565897’\n",
        "lastExecutedByKernel=‘f6c43d9d-c556-42d8-9544-e49e4eaa9fbc’\n",
        "lastScheduledRunId=‘null’ lastSuccessfullyExecutedCode=’# USE ONLY ONE\n",
        "OF THE FOLLOWING FOR STATWEMENTS\n",
        "\n",
        "# 1. Sample code to loop through the whole list of professors\n",
        "\n",
        "# for s in (range(40, len(profs),10)):\n",
        "\n",
        "# 2. Sample code to loop through the first 10 professors\n",
        "\n",
        "for s in range(0,10,10):\n",
        "\n",
        "    texts = [] # Initialzie an empty array\n",
        "    print((s, s+10)) # Iterate through 10 professors at a time\n",
        "\n",
        "    for url in profs[s:s+10]: # Iterate through this block\n",
        "        time.sleep(3) # To prevent sending too many requests at once\n",
        "        r = requests.get(url) # Open URL\n",
        "        htmlparser = etree.HTMLParser() # Instantiate a parser to parse HTML\n",
        "        tree = etree.parse(StringIO(r.text), htmlparser) # Parse HTML returned by the url\n",
        "        \n",
        "        text = tree.xpath(\\'//*[@id=\"ratingsList\"]/li[*]/div/div/div[3]/div[3]/text()\\') # Extract reviews\n",
        "        ratings = tree.xpath(\\'//*[@id=\"root\"]/div/div/div[3]/div[2]/div[1]/div[1]/div[1]/div/div[1]\\') # Extract ratings\n",
        "        emotion = tree.xpath(\\'//*[@id=\"ratingsList\"]/li[*]/div/div/div[1]/div[1]/div[2]/text()\\') # Extract emotion\n",
        "        quality = tree.xpath(\\'//*[@id=\"ratingsList\"]/li[*]/div/div/div[2]/div[1]/div/div[2]\\') # Extract quality\n",
        "        texts.append((url,\n",
        "                      text,\n",
        "                      [i.text for i in ratings][0],\n",
        "                      emotion,\n",
        "                      [i.text for i in quality],\n",
        "                     )) # Append metrics to empty list\n",
        "\n",
        "    print() # Print new line for readability\n",
        "    df = pd.DataFrame(texts, columns = [\\'url\\', \\'review\\', \\'rating\\', \\'emtion\\', \\'quality\\'])\n",
        "    df.to_csv(f\\'df_{s}_to_{s+10}.csv\\') # Write result to df in blocks of 10 professors at a time\n",
        "    time.sleep(3) # Pause to prevent sending too many requests at once' outputsMetadata='{\"0\":{\"height\":59,\"type\":\"stream\"}}' execution_count=83}\n",
        "\n",
        "``` python\n",
        "# USE ONLY ONE OF THE FOLLOWING FOR STATWEMENTS\n",
        "\n",
        "# 1. Sample code to loop through the whole list of professors    \n",
        "# for s in (range(40, len(profs),10)):\n",
        "\n",
        "# 2. Sample code to loop through the first 10 professors\n",
        "for s in range(0,10,10):\n",
        "\n",
        "    texts = [] # Initialzie an empty array\n",
        "    print((s, s+10)) # Iterate through 10 professors at a time\n",
        "    \n",
        "    for url in profs[s:s+10]: # Iterate through this block\n",
        "        time.sleep(3) # To prevent sending too many requests at once\n",
        "        r = requests.get(url) # Open URL\n",
        "        htmlparser = etree.HTMLParser() # Instantiate a parser to parse HTML\n",
        "        tree = etree.parse(StringIO(r.text), htmlparser) # Parse HTML returned by the url\n",
        "        \n",
        "        text = tree.xpath('//*[@id=\"ratingsList\"]/li[*]/div/div/div[3]/div[3]/text()') # Extract reviews\n",
        "        ratings = tree.xpath('//*[@id=\"root\"]/div/div/div[3]/div[2]/div[1]/div[1]/div[1]/div/div[1]') # Extract ratings\n",
        "        emotion = tree.xpath('//*[@id=\"ratingsList\"]/li[*]/div/div/div[1]/div[1]/div[2]/text()') # Extract emotion\n",
        "        quality = tree.xpath('//*[@id=\"ratingsList\"]/li[*]/div/div/div[2]/div[1]/div/div[2]') # Extract quality\n",
        "        texts.append((url,\n",
        "                      text,\n",
        "                      [i.text for i in ratings][0],\n",
        "                      emotion,\n",
        "                      [i.text for i in quality],\n",
        "                     )) # Append metrics to empty list\n",
        "\n",
        "    print() # Print new line for readability\n",
        "    df = pd.DataFrame(texts, columns = ['url', 'review', 'rating', 'emtion', 'quality'])\n",
        "    df.to_csv(f'df_{s}_to_{s+10}.csv') # Write result to df in blocks of 10 professors at a time\n",
        "    time.sleep(3) # Pause to prevent sending too many requests at once\n",
        "```\n",
        "\n",
        "    (0, 10)\n",
        "\n",
        ":::\n",
        "\n",
        "# 2. Reading pre-scraped data\n",
        "\n",
        "### Task 2a. How can we read a directory of scraped professor reviews and concatenate them?\n",
        "\n",
        "Since we have already scraped reviews from several professors for you,\n",
        "let’s begin by concatenating all the files in the `data` folder\n",
        "provided. These have already been scraped for you.\n",
        "\n",
        "Since `review`, `emotion` and `quality` are lists but were recorded in\n",
        "string form, we’ll apply `eval()` to them to turn them back from a\n",
        "string into a list."
      ],
      "id": "f22d4e04-51d8-41ff-947d-d3083632161f"
    },
    {
      "cell_type": "code",
      "execution_count": 84,
      "metadata": {
        "executionCancelledAt": null,
        "executionTime": 50,
        "lastExecutedAt": 1719766565948,
        "lastExecutedByKernel": "f6c43d9d-c556-42d8-9544-e49e4eaa9fbc",
        "lastScheduledRunId": null,
        "lastSuccessfullyExecutedCode": "from glob import glob"
      },
      "outputs": [],
      "source": [
        "from glob import glob"
      ],
      "id": "00a06042-4be0-4c2e-967c-68a0664d55b1"
    },
    {
      "cell_type": "code",
      "execution_count": 85,
      "metadata": {
        "executionCancelledAt": null,
        "executionTime": 2848,
        "jupyter": {
          "outputs_hidden": false,
          "source_hidden": false
        },
        "lastExecutedAt": 1719766568797,
        "lastExecutedByKernel": "f6c43d9d-c556-42d8-9544-e49e4eaa9fbc",
        "lastScheduledRunId": null,
        "lastSuccessfullyExecutedCode": "df = pd.concat([pd.read_csv(x, index_col=0) for x in glob('data/*.csv')]).reset_index(drop = True) df['review'] = df['review'].apply(lambda x: eval(x)) df['emotion'] = df['emotion'].apply(lambda x: eval(x)) df['quality'] = df['quality'].apply(lambda x: eval(x))"
      },
      "outputs": [],
      "source": [
        "df = pd.concat([pd.read_csv(x, index_col=0) for x in glob('data/*.csv')]).reset_index(drop = True)\n",
        "df['review'] = df['review'].apply(lambda x: eval(x))\n",
        "df['emotion'] = df['emotion'].apply(lambda x: eval(x))\n",
        "df['quality'] = df['quality'].apply(lambda x: eval(x))"
      ],
      "id": "8d0eb371-f339-4c0a-b3e2-0a5840af2706"
    },
    {
      "cell_type": "markdown",
      "metadata": {},
      "source": [
        "### Task 2b. What does the final shape of our DataFrame look like?\n",
        "\n",
        "Browse the `df` below to familiarize yourself with the dataset we’ll be\n",
        "working with. The DataFrame contains one row for each professor,\n",
        "containing: - Their url - All the raw text reviews for that professor -\n",
        "Their overall rating - All the emotion labels associated with reviews of\n",
        "that professor - All quality ratings assigned to that professor"
      ],
      "id": "b8d13b6b-d84d-4b1a-9d1b-3d410470ef0c"
    },
    {
      "cell_type": "code",
      "execution_count": 86,
      "metadata": {
        "executionCancelledAt": null,
        "executionTime": 178,
        "lastExecutedAt": 1719766568977,
        "lastExecutedByKernel": "f6c43d9d-c556-42d8-9544-e49e4eaa9fbc",
        "lastScheduledRunId": null,
        "lastSuccessfullyExecutedCode": "df",
        "outputsMetadata": {
          "0": {
            "height": 321,
            "type": "dataFrame"
          }
        }
      },
      "outputs": [
        {
          "output_type": "display_data",
          "metadata": {},
          "data": {
            "text/html": [
              "\n",
              "<p>580 rows × 5 columns</p>\n",
              "</div>"
            ]
          }
        }
      ],
      "source": [
        "df"
      ],
      "id": "33dbb820-d76a-4607-96f3-0ff3859c0e6b"
    },
    {
      "cell_type": "markdown",
      "metadata": {},
      "source": [
        "# 3. Text Analysis\n",
        "\n",
        "## 3a. What additional package imports are required for data visualization and NLP?\n",
        "\n",
        "::: {#8d6a7a01-887d-4df1-98b6-5a3c95e35519 .cell\n",
        "executionCancelledAt=‘null’ executionTime=‘1184’\n",
        "jupyter=‘{“outputs_hidden”:false,“source_hidden”:false}’\n",
        "lastExecutedAt=‘1719766570161’\n",
        "lastExecutedByKernel=‘f6c43d9d-c556-42d8-9544-e49e4eaa9fbc’\n",
        "lastScheduledRunId=‘null’ lastSuccessfullyExecutedCode=’import numpy as\n",
        "np \\# For manipulating matrices during NLP\n",
        "\n",
        "import nltk \\# Natural language toolkit from nltk.tokenize import\n",
        "word_tokenize \\# Used for breaking up strings of text (e.g. sentences)\n",
        "into words from nltk.stem.porter import PorterStemmer \\# Used to return\n",
        "the dictionary base of a word from nltk.tokenize import\n",
        "WhitespaceTokenizer \\# Used for breaking up strings of text\n",
        "(e.g. sentences) into words based on white space\n",
        "\n",
        "nltk.download('punkt')\n",
        "\n",
        "from sklearn.feature_extraction.text import TfidfVectorizer,\n",
        "CountVectorizer \\# Used to count the occurences of words and phrases\n",
        "from sklearn.feature_extraction import text \\# Using to extrat features\n",
        "from text\n",
        "\n",
        "# For plotting\n",
        "\n",
        "import matplotlib.pyplot as plt import seaborn as sns\n",
        "sns.set(style='white')’\n",
        "outputsMetadata=‘{“0”:{“height”:59,“type”:“stream”}}’\n",
        "execution_count=87}\n",
        "\n",
        "``` python\n",
        "import numpy as np # For manipulating matrices during NLP\n",
        "\n",
        "import nltk # Natural language toolkit\n",
        "from nltk.tokenize import word_tokenize # Used for breaking up strings of text (e.g. sentences) into words\n",
        "from nltk.stem.porter import PorterStemmer # Used to return the dictionary base of a word\n",
        "from nltk.tokenize import WhitespaceTokenizer # Used for breaking up strings of text (e.g. sentences) into words based on white space\n",
        "\n",
        "nltk.download('punkt')\n",
        "\n",
        "from sklearn.feature_extraction.text import TfidfVectorizer, CountVectorizer # Used to count the occurences of words and phrases\n",
        "from sklearn.feature_extraction import text as sktext# Using to extrat features from text\n",
        "\n",
        "# For plotting\n",
        "import matplotlib.pyplot as plt \n",
        "import seaborn as sns\n",
        "sns.set(style='white')\n",
        "```\n",
        "\n",
        "    [nltk_data] Downloading package punkt to\n",
        "    [nltk_data]     /home/kantundpeterpan/nltk_data...\n",
        "    [nltk_data]   Package punkt is already up-to-date!\n",
        "\n",
        ":::\n",
        "\n",
        "### 3b. How can we assign gender labels to professors?\n",
        "\n",
        "Let’s write a custom function that assigns a gender label to professors\n",
        "based on the pronouns most commontly used for him. Specifically: - If\n",
        "any of `['she', 'her', 'herself', 'shes']` occur more than 5 times\n",
        "across all reviews for that professor, we label the professor “F”. - If\n",
        "any of `['him', 'he', 'his', 'himself']` occur more than 5 times across\n",
        "all reviews for that professor, we label the professor “F”."
      ],
      "id": "e792709a-a70c-4e11-8337-ed42516a0534"
    },
    {
      "cell_type": "code",
      "execution_count": 88,
      "metadata": {
        "executionCancelledAt": null,
        "executionTime": 58,
        "lastExecutedAt": 1719766570220,
        "lastExecutedByKernel": "f6c43d9d-c556-42d8-9544-e49e4eaa9fbc",
        "lastScheduledRunId": null,
        "lastSuccessfullyExecutedCode": "from collections import Counter"
      },
      "outputs": [],
      "source": [
        "from collections import Counter"
      ],
      "id": "507d2c12-93f3-4a14-96a6-b6cd95c5976c"
    },
    {
      "cell_type": "markdown",
      "metadata": {},
      "source": [
        "::: {#b44c0b61-91e6-4a2e-b969-8e12d9dca25e .cell\n",
        "executionCancelledAt=‘null’ executionTime=‘47’\n",
        "jupyter=‘{“outputs_hidden”:false,“source_hidden”:false}’\n",
        "lastExecutedAt=‘1719766570268’\n",
        "lastExecutedByKernel=‘f6c43d9d-c556-42d8-9544-e49e4eaa9fbc’\n",
        "lastScheduledRunId=‘null’ lastSuccessfullyExecutedCode=’def\n",
        "assign_pronoun(review_list):\n",
        "\n",
        "    she_ps = [\\'she\\', \\'her\\', \\'herself\\', \\'shes\\']\n",
        "    he_ps = [\\'him\\', \\'he\\', \\'his\\', \\'himself\\']\n",
        "\n",
        "    counters = [Counter(word_tokenize(r.lower())) for r in review_list]\n",
        "\n",
        "    ### FEMALE\n",
        "    she_ps_counter = dict()\n",
        "\n",
        "    for sp in she_ps:\n",
        "        she_ps_counter[sp] = 0\n",
        "        she_ps_counter[sp] = sum([c[sp] if sp in c.keys() else 0 for c in counters])\n",
        "        \n",
        "    she_ps_counts = np.array([she_ps_counter[sp] for sp in she_ps])\n",
        "\n",
        "    if np.sum(she_ps_counts) > 5:\n",
        "        return \"F\"\n",
        "\n",
        "    ### MALE\n",
        "    he_ps_counter = dict()\n",
        "\n",
        "    for hp in he_ps:\n",
        "        he_ps_counter[hp] = 0\n",
        "        he_ps_counter[hp] = sum([c[hp] if hp in c.keys() else 0 for c in counters])\n",
        "        \n",
        "    he_ps_counts = np.array([he_ps_counter[hp] for hp in he_ps])\n",
        "\n",
        "    if np.sum(he_ps_counts) > 5:\n",
        "        return \"M\"' execution_count=89}\n",
        "\n",
        "``` python\n",
        "def assign_pronoun(review_list):\n",
        "    \n",
        "    she_ps = ['she', 'her', 'herself', 'shes']\n",
        "    he_ps = ['him', 'he', 'his', 'himself']\n",
        "    \n",
        "    counters = [Counter(word_tokenize(r.lower())) for r in review_list]\n",
        "    \n",
        "    ### FEMALE\n",
        "    she_ps_counter = dict()\n",
        "    \n",
        "    for sp in she_ps:\n",
        "        she_ps_counter[sp] = 0\n",
        "        she_ps_counter[sp] = sum([c[sp] if sp in c.keys() else 0 for c in counters])\n",
        "        \n",
        "    she_ps_counts = np.array([she_ps_counter[sp] for sp in she_ps])\n",
        "    \n",
        "    if np.sum(she_ps_counts) > 5:\n",
        "        return \"F\"\n",
        "    \n",
        "    ### MALE\n",
        "    he_ps_counter = dict()\n",
        "    \n",
        "    for hp in he_ps:\n",
        "        he_ps_counter[hp] = 0\n",
        "        he_ps_counter[hp] = sum([c[hp] if hp in c.keys() else 0 for c in counters])\n",
        "        \n",
        "    he_ps_counts = np.array([he_ps_counter[hp] for hp in he_ps])\n",
        "    \n",
        "    if np.sum(he_ps_counts) > 5:\n",
        "        return \"M\"\n",
        "```\n",
        "\n",
        ":::"
      ],
      "id": "f4ec8fcb-6e03-4a82-89f3-994471d31812"
    },
    {
      "cell_type": "code",
      "execution_count": 90,
      "metadata": {
        "executionCancelledAt": null,
        "executionTime": 48,
        "lastExecutedAt": 1719766570316,
        "lastExecutedByKernel": "f6c43d9d-c556-42d8-9544-e49e4eaa9fbc",
        "lastScheduledRunId": null,
        "lastSuccessfullyExecutedCode": "assign_pronoun(df.review.iloc[6])",
        "outputsMetadata": {
          "0": {
            "height": 101,
            "type": "stream"
          }
        }
      },
      "outputs": [
        {
          "output_type": "display_data",
          "metadata": {},
          "data": {
            "text/plain": [
              "'M'"
            ]
          }
        }
      ],
      "source": [
        "assign_pronoun(df.review.iloc[6])"
      ],
      "id": "051288f7-17ac-448b-9fe9-43f5d3f133ec"
    },
    {
      "cell_type": "code",
      "execution_count": 91,
      "metadata": {
        "executionCancelledAt": null,
        "executionTime": 3308,
        "jupyter": {
          "outputs_hidden": false,
          "source_hidden": false
        },
        "lastExecutedAt": 1719766573624,
        "lastExecutedByKernel": "f6c43d9d-c556-42d8-9544-e49e4eaa9fbc",
        "lastScheduledRunId": null,
        "lastSuccessfullyExecutedCode": "df['pronouns'] = df.review.apply(assign_pronoun)"
      },
      "outputs": [],
      "source": [
        "df['pronouns'] = df.review.apply(assign_pronoun)"
      ],
      "id": "ceafc103-6ee0-4d16-a61c-aadbf489900c"
    },
    {
      "cell_type": "code",
      "execution_count": 92,
      "metadata": {
        "executionCancelledAt": null,
        "executionTime": 51,
        "lastExecutedAt": 1719766573677,
        "lastExecutedByKernel": "f6c43d9d-c556-42d8-9544-e49e4eaa9fbc",
        "lastScheduledRunId": null,
        "lastSuccessfullyExecutedCode": "df.pronouns.value_counts()",
        "outputsMetadata": {
          "0": {
            "height": 121,
            "type": "dataFrame"
          }
        }
      },
      "outputs": [
        {
          "output_type": "display_data",
          "metadata": {},
          "data": {
            "text/plain": [
              "pronouns\n",
              "M    417\n",
              "F    139\n",
              "Name: count, dtype: int64"
            ]
          }
        }
      ],
      "source": [
        "df.pronouns.value_counts()"
      ],
      "id": "36558614-c9ea-44d5-b25a-84cd8313cb88"
    },
    {
      "cell_type": "markdown",
      "metadata": {},
      "source": [
        "### 3c. Are there any initial differences between male and female professors based on their overall ratings?\n",
        "\n",
        "Let’s start with a barplot."
      ],
      "id": "4f12e76b-2d03-407b-9cdc-068c4a343d2f"
    },
    {
      "cell_type": "code",
      "execution_count": 93,
      "metadata": {
        "executionCancelledAt": null,
        "executionTime": 428,
        "jupyter": {
          "outputs_hidden": false,
          "source_hidden": false
        },
        "lastExecutedAt": 1719766574105,
        "lastExecutedByKernel": "f6c43d9d-c556-42d8-9544-e49e4eaa9fbc",
        "lastScheduledRunId": null,
        "lastSuccessfullyExecutedCode": "plt.figure(figsize=(4,4)) sns.barplot(df, x = 'pronouns', y = 'rating', estimator = 'median',             palette = 'magma') plt.show()"
      },
      "outputs": [
        {
          "output_type": "stream",
          "name": "stderr",
          "text": [
            "/tmp/ipykernel_1311222/2203816405.py:2: FutureWarning: \n",
            "\n",
            "Passing `palette` without assigning `hue` is deprecated and will be removed in v0.14.0. Assign the `x` variable to `hue` and set `legend=False` for the same effect.\n",
            "\n",
            "  sns.barplot(data = df, x = 'pronouns', y = 'rating', estimator = 'median',"
          ]
        },
        {
          "output_type": "display_data",
          "metadata": {},
          "data": {
            "image/png": "[encoded data removed]"
          }
        }
      ],
      "source": [
        "plt.figure(figsize=(4,4))\n",
        "sns.barplot(data = df, x = 'pronouns', y = 'rating', estimator = 'median',\n",
        "            palette = 'magma')\n",
        "plt.show()"
      ],
      "id": "d839f267-6424-4f91-9753-6f14741947e8"
    },
    {
      "cell_type": "markdown",
      "metadata": {},
      "source": [
        "A boxplot overlaid with a stripplot will give us a better sense of the\n",
        "distribution of the data."
      ],
      "id": "34102749-a6b4-4088-9a98-764d3f83d3b4"
    },
    {
      "cell_type": "code",
      "execution_count": 94,
      "metadata": {
        "executionCancelledAt": null,
        "executionTime": 262,
        "jupyter": {
          "outputs_hidden": false,
          "source_hidden": false
        },
        "lastExecutedAt": 1719766574367,
        "lastExecutedByKernel": "f6c43d9d-c556-42d8-9544-e49e4eaa9fbc",
        "lastScheduledRunId": null,
        "lastSuccessfullyExecutedCode": "plt.figure(figsize=(5,5)) sns.boxplot(df, x = 'pronouns', y = 'rating', palette = 'magma') sns.stripplot(df, x = 'pronouns', y = 'rating', jitter = 0.2, color = 'lightblue',               edgecolor = 'k', linewidth=1) plt.show()"
      },
      "outputs": [
        {
          "output_type": "stream",
          "name": "stderr",
          "text": [
            "/tmp/ipykernel_1311222/1838852018.py:2: FutureWarning: \n",
            "\n",
            "Passing `palette` without assigning `hue` is deprecated and will be removed in v0.14.0. Assign the `x` variable to `hue` and set `legend=False` for the same effect.\n",
            "\n",
            "  sns.boxplot(df, x = 'pronouns', y = 'rating', palette = 'magma')"
          ]
        },
        {
          "output_type": "display_data",
          "metadata": {},
          "data": {
            "image/png": "[encoded data removed]"
          }
        }
      ],
      "source": [
        "plt.figure(figsize=(5,5))\n",
        "sns.boxplot(df, x = 'pronouns', y = 'rating', palette = 'magma')\n",
        "sns.stripplot(data = df, x = 'pronouns', y = 'rating', jitter = 0.2, color = 'lightblue',\n",
        "              edgecolor = 'k', linewidth=1)\n",
        "plt.show()"
      ],
      "id": "171c79c8-f16b-43c7-9692-5123a609d72e"
    },
    {
      "cell_type": "markdown",
      "metadata": {},
      "source": [
        "## Task 3d. What are the most important words being used to describe professors in reviews?\n",
        "\n",
        "Let’s write a custom function that **tokenizes** and **lemmatizes** our\n",
        "list of words. - **Word tokenization**: process of splitting text into\n",
        "individual words, called tokens. A common preprocessing step in natural\n",
        "language processing (NLP) so that text can be analyzed and processed\n",
        "more easily. Methods include whitespace tokenization, regular\n",
        "expression-based tokenization, and rule-based tokenization. We’ll be\n",
        "using the `word_tokenize` tokenizer from `nltk`, with all its\n",
        "defaults. - **Lemmatization**: process of reducing words to their base\n",
        "or dictionary form, called the lemma. Also a common pre-processing step\n",
        "in NLP, so that words with a common base form are treated the same way.\n",
        "For example, the lemma of “am” is “be”, of “running” is “run”, and of\n",
        "“mice” is “mouse”."
      ],
      "id": "56cd660f-6f4e-4609-96ad-c1d6c205e9f5"
    },
    {
      "cell_type": "code",
      "execution_count": 95,
      "metadata": {},
      "outputs": [
        {
          "output_type": "display_data",
          "metadata": {},
          "data": {
            "text/plain": [
              "\"she'\""
            ]
          }
        }
      ],
      "source": [
        "PorterStemmer().stem(\"she\\'s\")"
      ],
      "id": "d9446182-ac3e-4346-8d0d-3538fb39de7f"
    },
    {
      "cell_type": "code",
      "execution_count": 96,
      "metadata": {},
      "outputs": [
        {
          "output_type": "display_data",
          "metadata": {},
          "data": {
            "text/plain": [
              "['she', \"'s\", 'a', 'girl']"
            ]
          }
        }
      ],
      "source": [
        "word_tokenize('she\\'s a girl')"
      ],
      "id": "8d2ad9b7-22b1-42ff-910d-c242e4ed2756"
    },
    {
      "cell_type": "code",
      "execution_count": 97,
      "metadata": {},
      "outputs": [],
      "source": [
        "import string"
      ],
      "id": "db3dfce9-6056-404c-a5b0-18ac4c0205f8"
    },
    {
      "cell_type": "code",
      "execution_count": 98,
      "metadata": {
        "executionCancelledAt": null,
        "executionTime": 53,
        "jupyter": {
          "outputs_hidden": false,
          "source_hidden": false
        },
        "lastExecutedAt": 1719766574420,
        "lastExecutedByKernel": "f6c43d9d-c556-42d8-9544-e49e4eaa9fbc",
        "lastScheduledRunId": null,
        "lastSuccessfullyExecutedCode": "def tokenize(text):     tk = WhitespaceTokenizer()     tokens = tk.tokenize(text)     stems = []     for item in tokens:         stems.append(PorterStemmer().stem(item))     return stems"
      },
      "outputs": [],
      "source": [
        "def tokenize(text):\n",
        "    tk = WhitespaceTokenizer()\n",
        "    tokens = tk.tokenize(text)\n",
        "    stems = []\n",
        "    for item in tokens:\n",
        "        stems.append(PorterStemmer().stem(item).strip(string.punctuation))\n",
        "    return stems"
      ],
      "id": "14af1c53-1fae-4673-b8a9-c80945fcf6b0"
    },
    {
      "cell_type": "markdown",
      "metadata": {},
      "source": [
        "Let’s import a list of stop words, which are common English words that\n",
        "we will be ignoring in our analysis. `sklearn` provides a common list of\n",
        "stop words, and we can append additional words to this list. Below, we\n",
        "append pronouns, along with the words “class” and “student”. Feel free\n",
        "to add any additional words you’d like to ignore to this list later on\n",
        "as you try to build upon this analysis!"
      ],
      "id": "fe8657bb-a969-4898-a186-1e13f3410470"
    },
    {
      "cell_type": "code",
      "execution_count": 99,
      "metadata": {
        "executionCancelledAt": null,
        "executionTime": 47,
        "jupyter": {
          "outputs_hidden": false,
          "source_hidden": false
        },
        "lastExecutedAt": 1719766574468,
        "lastExecutedByKernel": "f6c43d9d-c556-42d8-9544-e49e4eaa9fbc",
        "lastScheduledRunId": null,
        "lastSuccessfullyExecutedCode": "my_stop_words = text.ENGLISH_STOP_WORDS.union([\"he\",\"she\",\"his\",\"her\",                                               \"himself\",\"herself\", \"hers\",\"shes\"                                               \"class\",\"student\"])"
      },
      "outputs": [],
      "source": [
        "my_stop_words = sktext.ENGLISH_STOP_WORDS.union([\"he\",\"she\",\"his\",\"her\",\n",
        "                                              \"himself\",\"herself\", \"hers\",\"shes\"\n",
        "                                              \"class\",\"student\", 'man', 'woman', 'girl',\n",
        "                                                 'guy', 'lady', 'mr', 'mrs', 'ms'])\n",
        "my_stop_words = my_stop_words.union([tokenize(word)[0] for word in my_stop_words])"
      ],
      "id": "17fee0ae-b095-4132-b09b-f06bf8dda71b"
    },
    {
      "cell_type": "markdown",
      "metadata": {},
      "source": [
        "For the purpose of analyzing review texts, we want to move from having\n",
        "one row for each professor to one row for each review. Lets do this with\n",
        "`.explode()` from pandas."
      ],
      "id": "66b58f9f-1d01-4a2d-9b18-482a358b5b23"
    },
    {
      "cell_type": "code",
      "execution_count": 100,
      "metadata": {
        "executionCancelledAt": null,
        "executionTime": 59,
        "jupyter": {
          "outputs_hidden": false,
          "source_hidden": false
        },
        "lastExecutedAt": 1719766574528,
        "lastExecutedByKernel": "f6c43d9d-c556-42d8-9544-e49e4eaa9fbc",
        "lastScheduledRunId": null,
        "lastSuccessfullyExecutedCode": "df_quality = df[(df['review'].apply(len) == df['quality'].apply(len))] q = df_quality[['pronouns','review','quality']].explode(['review','quality'], ignore_index=True).dropna() q['quality'] = q['quality'].astype(float)"
      },
      "outputs": [],
      "source": [
        "df_quality = df[(df['review'].apply(len) == df['quality'].apply(len))]\n",
        "q = df_quality[['pronouns','review','quality']].explode(['review','quality'], ignore_index=True).dropna()\n",
        "q['quality'] = q['quality'].astype(float)"
      ],
      "id": "91f24d99-a96d-4a6b-8f19-b972aac0885f"
    },
    {
      "cell_type": "code",
      "execution_count": 101,
      "metadata": {
        "executionCancelledAt": null,
        "executionTime": 60,
        "lastExecutedAt": 1719766574589,
        "lastExecutedByKernel": "f6c43d9d-c556-42d8-9544-e49e4eaa9fbc",
        "lastScheduledRunId": null,
        "lastSuccessfullyExecutedCode": "q.head(5)",
        "outputsMetadata": {
          "0": {
            "height": 196,
            "type": "dataFrame"
          }
        }
      },
      "outputs": [
        {
          "output_type": "display_data",
          "metadata": {},
          "data": {
            "text/html": [
              "\n",
              "</div>"
            ]
          }
        }
      ],
      "source": [
        "q.head(5)"
      ],
      "id": "0f1c3778-4b39-4bf5-a86e-eb9f07f12976"
    },
    {
      "cell_type": "markdown",
      "metadata": {},
      "source": [
        "TFIDF vectorization is the process of assigning scores to each review in\n",
        "a document based on how frequently the word occurs, normalized by how\n",
        "frequently the word occurs in the dataset overall.\n",
        "\n",
        "We’ll use `TfidfVectorizer()` to generate these scores. This will return\n",
        "a matrix, with as many rows as reviews, and as many columns as words in\n",
        "our dataset."
      ],
      "id": "e4692044-a5de-4491-94d1-869d6ae22245"
    },
    {
      "cell_type": "code",
      "execution_count": 102,
      "metadata": {
        "executionCancelledAt": null,
        "executionTime": 10209,
        "jupyter": {
          "outputs_hidden": false,
          "source_hidden": false
        },
        "lastExecutedAt": 1719766584798,
        "lastExecutedByKernel": "f6c43d9d-c556-42d8-9544-e49e4eaa9fbc",
        "lastScheduledRunId": null,
        "lastSuccessfullyExecutedCode": "vec = TfidfVectorizer(     tokenizer = tokenize,     stop_words = list(my_stop_words),     ngram_range = (1,4) ) X = vec.fit_transform(q.review) feature_names = vec.get_feature_names_out()"
      },
      "outputs": [
        {
          "output_type": "stream",
          "name": "stderr",
          "text": [
            "/home/kantundpeterpan/miniconda3/envs/nlp/lib/python3.12/site-packages/sklearn/feature_extraction/text.py:523: UserWarning: The parameter 'token_pattern' will not be used since 'tokenizer' is not None'\n",
            "  warnings.warn(\n",
            "/home/kantundpeterpan/miniconda3/envs/nlp/lib/python3.12/site-packages/sklearn/feature_extraction/text.py:408: UserWarning: Your stop_words may be inconsistent with your preprocessing. Tokenizing the stop words generated tokens ['anywh', 'becau', 'el', 'elsewh', 'everywh', 'ind', 'otherwi', 'plea', 'somewh'] not in stop_words.\n",
            "  warnings.warn("
          ]
        }
      ],
      "source": [
        "vec = TfidfVectorizer(\n",
        "    tokenizer = tokenize,\n",
        "    stop_words = list(my_stop_words),\n",
        "    ngram_range = (1,4)\n",
        ")\n",
        "X = vec.fit_transform(q.review)\n",
        "feature_names = vec.get_feature_names_out()"
      ],
      "id": "7ff1b94d-755e-4777-a149-57af7c806207"
    },
    {
      "cell_type": "code",
      "execution_count": 103,
      "metadata": {
        "executionCancelledAt": null,
        "executionTime": 48,
        "lastExecutedAt": 1719766584848,
        "lastExecutedByKernel": "f6c43d9d-c556-42d8-9544-e49e4eaa9fbc",
        "lastScheduledRunId": null,
        "lastSuccessfullyExecutedCode": "feature_names.shape"
      },
      "outputs": [
        {
          "output_type": "display_data",
          "metadata": {},
          "data": {
            "text/plain": [
              "(365516,)"
            ]
          }
        }
      ],
      "source": [
        "feature_names.shape"
      ],
      "id": "d9d3d355-64ed-48ef-8bf9-fff922d8477d"
    },
    {
      "cell_type": "code",
      "execution_count": 104,
      "metadata": {
        "executionCancelledAt": null,
        "executionTime": 53,
        "lastExecutedAt": 1719766584901,
        "lastExecutedByKernel": "f6c43d9d-c556-42d8-9544-e49e4eaa9fbc",
        "lastScheduledRunId": null,
        "lastSuccessfullyExecutedCode": "np.random.choice(feature_names, size = 10)"
      },
      "outputs": [
        {
          "output_type": "display_data",
          "metadata": {},
          "data": {
            "text/plain": [
              "array(['tell obviou wast', 'specif test', 'english 70 fail class',\n",
              "       'took cours pass/fail', 'class easi understand let',\n",
              "       'offic hours realli', 'short tests attend determin', 'a.m',\n",
              "       'inform educ', 'suppos like market'], dtype=object)"
            ]
          }
        }
      ],
      "source": [
        "np.random.choice(feature_names, size = 10)"
      ],
      "id": "65c74493-d641-40d9-ba95-f26312642997"
    },
    {
      "cell_type": "markdown",
      "metadata": {},
      "source": [
        "`X` is a sparse matrix. We’ll now move into filtering X for: - Rows with\n",
        "male professors and reviews of high quality - Rows with female\n",
        "professors and reviews of high quality - Rows with male professors and\n",
        "reviews of low quality - Rows with female professors and reviews of low\n",
        "quality\n",
        "\n",
        "We can explore feature importance in each of these to get a sense of\n",
        "which words and phrases are coming up most often in the data."
      ],
      "id": "9599aea4-632f-4854-9eb7-eefde0436081"
    },
    {
      "cell_type": "code",
      "execution_count": 105,
      "metadata": {
        "executionCancelledAt": null,
        "executionTime": 51,
        "lastExecutedAt": 1719766584952,
        "lastExecutedByKernel": "f6c43d9d-c556-42d8-9544-e49e4eaa9fbc",
        "lastScheduledRunId": null,
        "lastSuccessfullyExecutedCode": "m_pos = X[q.pronouns.eq('M') & q.quality.ge(4.5)]"
      },
      "outputs": [],
      "source": [
        "m_pos = X[q.pronouns.eq('M') & q.quality.ge(4.5)]"
      ],
      "id": "0cb257b4-57ac-4f36-8605-d28cd9beeae0"
    },
    {
      "cell_type": "code",
      "execution_count": 106,
      "metadata": {
        "executionCancelledAt": null,
        "executionTime": 52,
        "jupyter": {
          "outputs_hidden": false,
          "source_hidden": false
        },
        "lastExecutedAt": 1719766585004,
        "lastExecutedByKernel": "f6c43d9d-c556-42d8-9544-e49e4eaa9fbc",
        "lastScheduledRunId": null,
        "lastSuccessfullyExecutedCode": "m_pos = X[q.pronouns.eq('M') & q.quality.ge(4.5)] f_pos = X[q.pronouns.eq('F') & q.quality.ge(4.5)] m_neg = X[q.pronouns.eq('M') & q.quality.le(2.5)] f_neg = X[q.pronouns.eq('F') & q.quality.le(2.5)]"
      },
      "outputs": [],
      "source": [
        "m_pos = X[q.pronouns.eq('M') & q.quality.ge(4.5)]\n",
        "f_pos = X[q.pronouns.eq('F') & q.quality.ge(4.5)]\n",
        "m_neg = X[q.pronouns.eq('M') & q.quality.le(2.5)]\n",
        "f_neg = X[q.pronouns.eq('F') & q.quality.le(2.5)]"
      ],
      "id": "28537a88-8a7e-42c4-ba8b-276532defc87"
    },
    {
      "cell_type": "code",
      "execution_count": 107,
      "metadata": {
        "executionCancelledAt": null,
        "executionTime": 51,
        "lastExecutedAt": 1719766585056,
        "lastExecutedByKernel": "f6c43d9d-c556-42d8-9544-e49e4eaa9fbc",
        "lastScheduledRunId": null,
        "lastSuccessfullyExecutedCode": "np.unique(np.array(m_pos[0,:].todense()))"
      },
      "outputs": [
        {
          "output_type": "display_data",
          "metadata": {},
          "data": {
            "text/plain": [
              "array([0.        , 0.04840186, 0.05048048, 0.05840671, 0.0588915 ,\n",
              "       0.06440657, 0.07216968, 0.07743822, 0.08628339, 0.0890904 ,\n",
              "       0.09454997, 0.09609708, 0.0982585 , 0.09872669, 0.10101388,\n",
              "       0.10570444, 0.11337177, 0.12547472, 0.13281775, 0.13699447,\n",
              "       0.146295  , 0.15107613, 0.15781475])"
            ]
          }
        }
      ],
      "source": [
        "np.unique(np.array(m_pos[0,:].todense()))"
      ],
      "id": "57bd3bd1-4eb7-4a35-83d3-3e4c943500f4"
    },
    {
      "cell_type": "markdown",
      "metadata": {},
      "source": [
        "Let’s have a look at what language students are using to describe male\n",
        "professors positively. The code below will return the 300 most important\n",
        "ngrams."
      ],
      "id": "6c485198-52ac-4130-84a0-47e1d961cf89"
    },
    {
      "cell_type": "code",
      "execution_count": 108,
      "metadata": {
        "executionCancelledAt": null,
        "executionTime": 52,
        "jupyter": {
          "outputs_hidden": false,
          "source_hidden": false
        },
        "lastExecutedAt": 1719766585108,
        "lastExecutedByKernel": "f6c43d9d-c556-42d8-9544-e49e4eaa9fbc",
        "lastScheduledRunId": null,
        "lastSuccessfullyExecutedCode": "importance = np.argsort(np.asarray(m_pos.sum(axis = 0)))[0,::-1] m_pos_features = feature_names[importance[:300]]"
      },
      "outputs": [],
      "source": [
        "importance = np.argsort(np.asarray(m_pos.sum(axis = 0)))[0,::-1]\n",
        "m_pos_features = feature_names[importance[:300]]"
      ],
      "id": "0f03fbae-4024-4c85-b9a5-7924d06af553"
    },
    {
      "cell_type": "markdown",
      "metadata": {},
      "source": [
        "Print out the 25 most important features"
      ],
      "id": "eeb8bd88-e2ed-4dd0-ac4b-2581074940ba"
    },
    {
      "cell_type": "code",
      "execution_count": 109,
      "metadata": {
        "executionCancelledAt": null,
        "executionTime": 52,
        "lastExecutedAt": 1719766585161,
        "lastExecutedByKernel": "f6c43d9d-c556-42d8-9544-e49e4eaa9fbc",
        "lastScheduledRunId": null,
        "lastSuccessfullyExecutedCode": "m_pos_features[:25]"
      },
      "outputs": [
        {
          "output_type": "display_data",
          "metadata": {},
          "data": {
            "text/plain": [
              "array(['comment', 'great', 'class', 'teacher', 'best', 'professor',\n",
              "       'prof', 'good', 'help', 'realli', 'make', 'easi', 'love',\n",
              "       'great teacher', 'awesom', 'know', 'learn', '', 'work', 'lot',\n",
              "       'lectur', 'amaz', 'cours', 'nice', 'test'], dtype=object)"
            ]
          }
        }
      ],
      "source": [
        "m_pos_features[:25]"
      ],
      "id": "2132d526-9676-4a39-b0f6-22af9b72205a"
    },
    {
      "cell_type": "markdown",
      "metadata": {},
      "source": [
        "Let’s have a look at what language students are using to describe female\n",
        "professors positively."
      ],
      "id": "c33a9f20-ad59-4ea2-83f1-f9308f578850"
    },
    {
      "cell_type": "code",
      "execution_count": 110,
      "metadata": {
        "executionCancelledAt": null,
        "executionTime": 52,
        "jupyter": {
          "outputs_hidden": false,
          "source_hidden": false
        },
        "lastExecutedAt": 1719766585213,
        "lastExecutedByKernel": "f6c43d9d-c556-42d8-9544-e49e4eaa9fbc",
        "lastScheduledRunId": null,
        "lastSuccessfullyExecutedCode": "importance = np.argsort(np.asarray(f_pos.sum(axis = 0)))[0,::-1] f_pos_features = feature_names[importance[:300]] f_pos_features[:25]"
      },
      "outputs": [
        {
          "output_type": "display_data",
          "metadata": {},
          "data": {
            "text/plain": [
              "array(['comment', 'great', 'class', 'teacher', 'prof', 'help',\n",
              "       'professor', 'best', 'good', 'easi', 'realli', 'work', 'nice',\n",
              "       'lot', 'love', 'make', 'learn', 'helpful', 'great teacher', '',\n",
              "       'amaz', 'great prof', 'cours', 'lectur', 'hard'], dtype=object)"
            ]
          }
        }
      ],
      "source": [
        "importance = np.argsort(np.asarray(f_pos.sum(axis = 0)))[0,::-1]\n",
        "f_pos_features = feature_names[importance[:300]]\n",
        "f_pos_features[:25]"
      ],
      "id": "6cdc8b08-e149-4938-a490-658e336ef797"
    },
    {
      "cell_type": "markdown",
      "metadata": {},
      "source": [
        "It should be interesting if there are words exclusively used for one\n",
        "gender"
      ],
      "id": "be0a4055-818e-4f7b-a129-85f4516e67a9"
    },
    {
      "cell_type": "code",
      "execution_count": 111,
      "metadata": {
        "executionCancelledAt": null,
        "executionTime": 56,
        "lastExecutedAt": 1719766585269,
        "lastExecutedByKernel": "f6c43d9d-c556-42d8-9544-e49e4eaa9fbc",
        "lastScheduledRunId": null,
        "lastSuccessfullyExecutedCode": "#male only_m_pos = ~np.in1d(m_pos_features, f_pos_features) m_pos_features[only_m_pos][:25]"
      },
      "outputs": [
        {
          "output_type": "stream",
          "name": "stderr",
          "text": [
            "/tmp/ipykernel_1311222/3886134522.py:2: DeprecationWarning: `in1d` is deprecated. Use `np.isin` instead.\n",
            "  only_m_pos = ~np.in1d(m_pos_features, f_pos_features)"
          ]
        },
        {
          "output_type": "display_data",
          "metadata": {},
          "data": {
            "text/plain": [
              "array(['fantast', 'excel teacher', 'topic', 'awesom professor',\n",
              "       'excel professor', 'u', 'brilliant', 'realli enjoy', '2', 'old',\n",
              "       'amaz professor', \"professor i'v\", \"teacher i'v\", 'mark', 'b',\n",
              "       'hot', 'review', 'genuin', 'bore', \"he'll\", 'reason', 'hours',\n",
              "       'want learn', 'overal', 'feel'], dtype=object)"
            ]
          }
        }
      ],
      "source": [
        "#male\n",
        "only_m_pos = ~np.in1d(m_pos_features, f_pos_features)\n",
        "m_pos_features[only_m_pos][:25]"
      ],
      "id": "d466f834-bb0d-4374-a848-42d1f4b8ee8b"
    },
    {
      "cell_type": "code",
      "execution_count": 112,
      "metadata": {
        "executionCancelledAt": null,
        "executionTime": 52,
        "lastExecutedAt": 1719766585321,
        "lastExecutedByKernel": "f6c43d9d-c556-42d8-9544-e49e4eaa9fbc",
        "lastScheduledRunId": null,
        "lastSuccessfullyExecutedCode": "#female only_f_pos = ~np.in1d(f_pos_features, m_pos_features) f_pos_features[only_f_pos][:25]"
      },
      "outputs": [
        {
          "output_type": "display_data",
          "metadata": {},
          "data": {
            "text/plain": [
              "array(['extra credit', 'especi', 'spanish', \"she'll\", 'assignments',\n",
              "       'realli nice', 'offer', 'help prof', 'class nice', 'succeed',\n",
              "       'realli want', 'alot', 'onlin class', 'knowledgable', 'group',\n",
              "       'good lectur', 'attention', 'nice help', \"i'd\", 'real world',\n",
              "       'easi grade', 'awsom', 'account', 'guid', 'semester'], dtype=object)"
            ]
          }
        }
      ],
      "source": [
        "#female\n",
        "only_f_pos = ~np.isin(f_pos_features, m_pos_features)\n",
        "f_pos_features[only_f_pos][:25]"
      ],
      "id": "60fc4bc2-acf5-4e0e-8395-0730b97023dc"
    },
    {
      "cell_type": "markdown",
      "metadata": {},
      "source": [
        "Let’s have a look at what language students are using to describe male\n",
        "professors negatively."
      ],
      "id": "5cd92600-feb5-46b0-8903-22cf2f251684"
    },
    {
      "cell_type": "code",
      "execution_count": 113,
      "metadata": {
        "executionCancelledAt": null,
        "executionTime": 47,
        "lastExecutedAt": 1719766585368,
        "lastExecutedByKernel": "f6c43d9d-c556-42d8-9544-e49e4eaa9fbc",
        "lastScheduledRunId": null,
        "lastSuccessfullyExecutedCode": "importance = np.argsort(np.asarray(m_neg.sum(axis = 0)))[0,::-1] m_neg_features = feature_names[importance[:300]] m_neg_features[:25]"
      },
      "outputs": [
        {
          "output_type": "display_data",
          "metadata": {},
          "data": {
            "text/plain": [
              "array(['comment', 'class', 'teach', 'hard', 'test', 'worst', 'professor',\n",
              "       'teacher', 'lectur', '', 'time', 'know', 'like', 'grade', \"don't\",\n",
              "       \"doesn't\", 'just', 'prof', 'avoid', 'bore', 'question', 'good',\n",
              "       'make', 'doe', 'read'], dtype=object)"
            ]
          }
        }
      ],
      "source": [
        "importance = np.argsort(np.asarray(m_neg.sum(axis = 0)))[0,::-1]\n",
        "m_neg_features = feature_names[importance[:300]]\n",
        "m_neg_features[:25]"
      ],
      "id": "bcc7dfc9-edab-4d8c-9a37-d02aa3549ec7"
    },
    {
      "cell_type": "markdown",
      "metadata": {},
      "source": [
        "Let’s have a look at what language students are using to describe female\n",
        "professors negatively."
      ],
      "id": "57fbfdc6-3877-42f3-8c13-a7414063c29b"
    },
    {
      "cell_type": "code",
      "execution_count": 114,
      "metadata": {
        "executionCancelledAt": null,
        "executionTime": 57,
        "lastExecutedAt": 1719766585425,
        "lastExecutedByKernel": "f6c43d9d-c556-42d8-9544-e49e4eaa9fbc",
        "lastScheduledRunId": null,
        "lastSuccessfullyExecutedCode": "importance = np.argsort(np.asarray(f_neg.sum(axis = 0)))[0,::-1] f_neg_features = feature_names[importance[:300]] f_neg_features[:25]"
      },
      "outputs": [
        {
          "output_type": "display_data",
          "metadata": {},
          "data": {
            "text/plain": [
              "array(['comment', 'class', 'worst', 'grade', 'teacher', 'hard', 'teach',\n",
              "       \"don't\", \"doesn't\", 'help', 'like', 'test', '', 'just', 'time',\n",
              "       'work', 'professor', 'good', 'doe', 'question', 'make', 'know',\n",
              "       'horribl', 'learn', 'unclear'], dtype=object)"
            ]
          }
        }
      ],
      "source": [
        "importance = np.argsort(np.asarray(f_neg.sum(axis = 0)))[0,::-1]\n",
        "f_neg_features = feature_names[importance[:300]]\n",
        "f_neg_features[:25]"
      ],
      "id": "a970b19e-371d-4e4e-b0e3-b1f4529c40bc"
    },
    {
      "cell_type": "markdown",
      "metadata": {},
      "source": [
        "Same analysis for exclusive words:"
      ],
      "id": "a4e98c43-f0b2-4dd1-8856-de0ec6350794"
    },
    {
      "cell_type": "code",
      "execution_count": 115,
      "metadata": {
        "executionCancelledAt": null,
        "executionTime": 52,
        "lastExecutedAt": 1719766585477,
        "lastExecutedByKernel": "f6c43d9d-c556-42d8-9544-e49e4eaa9fbc",
        "lastScheduledRunId": null,
        "lastSuccessfullyExecutedCode": "#male only_m_neg = ~np.in1d(m_neg_features, f_neg_features) m_neg_features[only_m_neg][:25]"
      },
      "outputs": [
        {
          "output_type": "stream",
          "name": "stderr",
          "text": [
            "/tmp/ipykernel_1311222/728473888.py:2: DeprecationWarning: `in1d` is deprecated. Use `np.isin` instead.\n",
            "  only_m_neg = ~np.in1d(m_neg_features, f_neg_features)"
          ]
        },
        {
          "output_type": "display_data",
          "metadata": {},
          "data": {
            "text/plain": [
              "array(['speak', 'hard understand', 'great', 'arrog', 'hear', 'costs',\n",
              "       'smart', 'hardest', 'taught', 'listen', 'rambl', 'english',\n",
              "       'exampl', 'let', 'sit', 'incred', 'wrote', 'knowledg', 'possible',\n",
              "       'probabl', 'avoid costs', 'gpa', 'offic', '1', \"can't teach\"],\n",
              "      dtype=object)"
            ]
          }
        }
      ],
      "source": [
        "#male\n",
        "only_m_neg = ~np.in1d(m_neg_features, f_neg_features)\n",
        "m_neg_features[only_m_neg][:25]"
      ],
      "id": "23d3b19e-48bc-40a1-95d7-90b1a62b51d2"
    },
    {
      "cell_type": "code",
      "execution_count": 116,
      "metadata": {
        "executionCancelledAt": null,
        "executionTime": 51,
        "lastExecutedAt": 1719766585529,
        "lastExecutedByKernel": "f6c43d9d-c556-42d8-9544-e49e4eaa9fbc",
        "lastScheduledRunId": null,
        "lastSuccessfullyExecutedCode": "#female only_f_neg = ~np.in1d(f_neg_features, m_neg_features) f_neg_features[only_f_neg][:25]"
      },
      "outputs": [
        {
          "output_type": "stream",
          "name": "stderr",
          "text": [
            "/tmp/ipykernel_1311222/1584707764.py:2: DeprecationWarning: `in1d` is deprecated. Use `np.isin` instead.\n",
            "  only_f_neg = ~np.in1d(f_neg_features, m_neg_features)"
          ]
        },
        {
          "output_type": "display_data",
          "metadata": {},
          "data": {
            "text/plain": [
              "array(['late', 'disorgan', 'gave', 'advis', 'annoy', 'feedback', 'cost',\n",
              "       'agre', 'helpful', 'disorganized', 'nice person', 'avoid cost',\n",
              "       'unorganized', 'opinion', 'slow', 'quit', 'colleg', 'honestli',\n",
              "       'fan', 'papers', 'spanish', 'easi class', 'favorites', 'instead',\n",
              "       '5'], dtype=object)"
            ]
          }
        }
      ],
      "source": [
        "#female\n",
        "only_f_neg = ~np.in1d(f_neg_features, m_neg_features)\n",
        "f_neg_features[only_f_neg][:25]"
      ],
      "id": "4b9c9575-019a-49bc-8228-500e78d75849"
    },
    {
      "cell_type": "markdown",
      "metadata": {},
      "source": [
        "## Congratulations on making it to the end!\n",
        "\n",
        "### Where to from here?\n",
        "\n",
        "-   We can feed these words into Ben Schmidt’s\n",
        "    [tool](https://benschmidt.org/profGender/#%7B%22database%22%3A%22RMP%22%2C%22plotType%22%3A%22pointchart%22%2C%22method%22%3A%22return_json%22%2C%22search_limits%22%3A%7B%22word%22%3A%5B%22his%20kids%22%2C%22her%20kids%22%5D%2C%22department__id%22%3A%7B%22%24lte%22%3A25%7D%7D%2C%22aesthetic%22%3A%7B%22x%22%3A%22WordsPerMillion%22%2C%22y%22%3A%22department%22%2C%22color%22%3A%22gender%22%7D%2C%22counttype%22%3A%5B%22WordCount%22%2C%22TotalWords%22%5D%2C%22groups%22%3A%5B%22unigram%22%5D%2C%22testGroup%22%3A%22C%22%7D)\n",
        "    to derive insights by field.\n",
        "-   If you’re interested in learning more about [web\n",
        "    scraping](https://app.datacamp.com/learn/courses/web-scraping-with-python),\n",
        "    take our courses on Web Scraping in Python\n",
        "-   If you’re intersted in diving in to the world of Natural Language\n",
        "    Processing, explore our [skill\n",
        "    track](https://app.datacamp.com/learn/skill-tracks/natural-language-processing-in-python).\n",
        "\n",
        "::: {#f592331c-f5d8-4c32-8791-2eee74269815 .cell\n",
        "executionCancelledAt=‘null’ executionTime=‘48’\n",
        "jupyter=‘{“source_hidden”:true}’ lastExecutedAt=‘1719766585577’\n",
        "lastExecutedByKernel=‘f6c43d9d-c556-42d8-9544-e49e4eaa9fbc’\n",
        "lastScheduledRunId=‘null’ lastSuccessfullyExecutedCode=’import os from\n",
        "IPython.display import display, HTML\n",
        "\n",
        "# List files and directories in the current directory\n",
        "\n",
        "files = os.listdir('.')\n",
        "\n",
        "# Create an HTML list to display the files\n",
        "\n",
        "html = “\\<h1 style='background-color:salmon;text-indent:\n",
        "1.2em;color:white'\\>roject extension"
      ],
      "id": "d270d032-bf4b-4c06-b047-79570f954aaa"
    },
    {
      "cell_type": "raw",
      "metadata": {
        "raw_mimetype": "text/html"
      },
      "source": [
        "</h1>"
      ],
      "id": "3808fca6-0607-492b-997c-f0b772dd1a3f"
    },
    {
      "cell_type": "markdown",
      "metadata": {},
      "source": [
        "”\n",
        "\n",
        "# Display the HTML\n",
        "\n",
        "display(HTML(html)) ’ tags=‘\\[\\]’ execution_count=117}\n",
        "\n",
        "``` python\n",
        "import os\n",
        "from IPython.display import display, HTML\n",
        "\n",
        "# List files and directories in the current directory\n",
        "files = os.listdir('.')\n",
        "\n",
        "# Create an HTML list to display the files\n",
        "html = \"<h1 style='background-color:salmon;text-indent: 1.2em;color:white'>\\t Project extension</h1>\"\n",
        "\n",
        "# Display the HTML\n",
        "display(HTML(html))\n",
        "```\n",
        "\n",
        "<h1 style='background-color:salmon;text-indent: 1.2em;color:white'>  Project extension</h1>\n",
        "\n",
        ":::\n",
        "\n",
        "Unfortunately Ben Schmidt’s tool does not seem to work anymore. So, in\n",
        "order to investigate gender bias in this dataset, I came up with the\n",
        "following research question: Is the sentiment of the review associated\n",
        "with the use of stereotypical words for the two genders?\n",
        "\n",
        "In order to answer that question, I looked for a lexicon that I could\n",
        "screen the reviews against. While I found some (a lot!) papers\n",
        "addressing detection of gender stereotypes using NLP, I could not find\n",
        "said lexicon - but I foudn that Language Models based on word embeddings\n",
        "also learn the gender bias implicit in the corpus they are trained on.\n",
        "\n",
        "So I figured that maybe it would be possible to exploit that to\n",
        "construct - in a quick and dirty kind of fashion - this lexicon myself\n",
        "by asking Google’s GEMINI. Some prompt engineering was necessary: [you\n",
        "can have a look for\n",
        "yourself](%5Burl%5D(https://g.co/gemini/share/db15535c30d9)).\n",
        "Ironically, Gemini seemed more hesitant to compile a list of words\n",
        "stereotypically negatively associated with women than for men.\n",
        "\n",
        "Let’s parse those lists:\n",
        "\n",
        "::: {#886fdf04-c004-4172-839d-743eaea1a976 .cell\n",
        "executionCancelledAt=‘null’ executionTime=‘47’\n",
        "lastExecutedAt=‘1719766585624’\n",
        "lastExecutedByKernel=‘f6c43d9d-c556-42d8-9544-e49e4eaa9fbc’\n",
        "lastScheduledRunId=‘null’ lastSuccessfullyExecutedCode=’def\n",
        "parse_gemini_list(s: str) -\\> list: “““parse comma separated list of\n",
        "words remove annotations in parentheses”“” new = \\[w.strip() for w in\n",
        "s.split(',')\\] for i,n in enumerate(new): if '(' in n: new\\[i\\] =\n",
        "n.split('(')\\[0\\]\n",
        "\n",
        "    return new' execution_count=118}\n",
        "\n",
        "``` python\n",
        "def parse_gemini_list(s: str) -> list:\n",
        "    \"\"\"parse comma separated list of words remove annotations in parentheses\"\"\"\n",
        "    new = [w.strip() for w in s.split(',')]\n",
        "    for i,n in enumerate(new):\n",
        "        if '(' in n:\n",
        "            new[i] = n.split('(')[0]\n",
        "    \n",
        "    new = np.unique([x for word in new for x in tokenize(word)])\n",
        "            \n",
        "    return new\n",
        "```\n",
        "\n",
        ":::"
      ],
      "id": "2a4f3c64-a74e-4ed9-9324-ff0c4e89c2e9"
    },
    {
      "cell_type": "code",
      "execution_count": 119,
      "metadata": {
        "executionCancelledAt": null,
        "executionTime": 17,
        "jupyter": {
          "outputs_hidden": false,
          "source_hidden": false
        },
        "lastExecutedAt": 1719767634723,
        "lastExecutedByKernel": "f6c43d9d-c556-42d8-9544-e49e4eaa9fbc",
        "lastScheduledRunId": null,
        "lastSuccessfullyExecutedCode": "with open('w_pos_lex', 'r') as f:     w_pos_lex = parse_gemini_list(f.read()) w_pos_ex = np.unique([tokenize(word) for word in w_pos_lex])"
      },
      "outputs": [],
      "source": [
        "with open('w_pos_lex', 'r') as f:\n",
        "    w_pos_lex = parse_gemini_list(f.read())"
      ],
      "id": "bd994153-eea1-4475-9778-8753e3cc5d38"
    },
    {
      "cell_type": "code",
      "execution_count": 120,
      "metadata": {
        "executionCancelledAt": null,
        "executionTime": 12,
        "lastExecutedAt": 1719767635017,
        "lastExecutedByKernel": "f6c43d9d-c556-42d8-9544-e49e4eaa9fbc",
        "lastScheduledRunId": null,
        "lastSuccessfullyExecutedCode": "with open('w_neg_lex', 'r') as f:     w_neg_lex = parse_gemini_list(f.read())"
      },
      "outputs": [],
      "source": [
        "with open('w_neg_lex', 'r') as f:\n",
        "    w_neg_lex = parse_gemini_list(f.read())"
      ],
      "id": "9f9d135a-d7ab-4bd8-a2cc-e616cd1fb1e3"
    },
    {
      "cell_type": "code",
      "execution_count": 121,
      "metadata": {
        "executionCancelledAt": null,
        "executionTime": 12,
        "lastExecutedAt": 1719767487043,
        "lastExecutedByKernel": "f6c43d9d-c556-42d8-9544-e49e4eaa9fbc",
        "lastScheduledRunId": null,
        "lastSuccessfullyExecutedCode": "with open('m_pos_lex', 'r') as f:     m_pos_lex = parse_gemini_list(f.read())"
      },
      "outputs": [],
      "source": [
        "with open('m_pos_lex', 'r') as f:\n",
        "    m_pos_lex = parse_gemini_list(f.read())"
      ],
      "id": "df1fddda-6d00-4913-8442-02fb87632afa"
    },
    {
      "cell_type": "code",
      "execution_count": 122,
      "metadata": {
        "executionCancelledAt": null,
        "executionTime": 11,
        "lastExecutedAt": 1719767488680,
        "lastExecutedByKernel": "f6c43d9d-c556-42d8-9544-e49e4eaa9fbc",
        "lastScheduledRunId": null,
        "lastSuccessfullyExecutedCode": "with open('m_neg_lex', 'r') as f:     m_neg_lex = parse_gemini_list(f.read())"
      },
      "outputs": [],
      "source": [
        "with open('m_neg_lex', 'r') as f:\n",
        "    m_neg_lex = parse_gemini_list(f.read())"
      ],
      "id": "b88b5fe3-ee53-4bde-808b-cc733c985ee4"
    },
    {
      "cell_type": "code",
      "execution_count": 123,
      "metadata": {},
      "outputs": [],
      "source": [
        "w_pos_lex_uni = w_pos_lex[~np.isin(w_pos_lex, m_pos_lex)]"
      ],
      "id": "e1d0d731-080b-41d6-a61c-2ec7265bf2b8"
    },
    {
      "cell_type": "code",
      "execution_count": 124,
      "metadata": {},
      "outputs": [],
      "source": [
        "m_pos_lex_uni = m_pos_lex[~np.isin(m_pos_lex, w_pos_lex)]"
      ],
      "id": "3180b223-eac0-439d-8404-a8a8ed08d18e"
    },
    {
      "cell_type": "code",
      "execution_count": 125,
      "metadata": {},
      "outputs": [],
      "source": [
        "w_neg_lex_uni = w_neg_lex[~np.isin(w_neg_lex, m_neg_lex)]"
      ],
      "id": "edff4a40-9c8a-49c5-8eea-2790c56455f8"
    },
    {
      "cell_type": "code",
      "execution_count": 126,
      "metadata": {},
      "outputs": [],
      "source": [
        "m_neg_lex_uni = m_neg_lex[~np.isin(m_neg_lex, w_neg_lex)]"
      ],
      "id": "c7830185-e05a-4e69-bf5d-628d81aca519"
    },
    {
      "cell_type": "code",
      "execution_count": 127,
      "metadata": {},
      "outputs": [
        {
          "output_type": "display_data",
          "metadata": {},
          "data": {
            "text/html": [
              "\n",
              "</div>"
            ]
          }
        }
      ],
      "source": [
        "q.head(5)"
      ],
      "id": "2329a767-54d7-42d8-b6f3-933573401bcf"
    },
    {
      "cell_type": "code",
      "execution_count": 128,
      "metadata": {},
      "outputs": [],
      "source": [
        "stereo_count_w_pos = q.loc[q.pronouns.eq('F') & q.quality.ge(4.5)].review.apply(tokenize).apply(\n",
        "    np.isin, args = (w_pos_lex_uni,)).apply(np.sum)"
      ],
      "id": "83c2523b-7fce-4eee-990a-dc868b299f80"
    },
    {
      "cell_type": "code",
      "execution_count": 129,
      "metadata": {},
      "outputs": [
        {
          "output_type": "display_data",
          "metadata": {},
          "data": {
            "image/png": "[encoded data removed]"
          }
        }
      ],
      "source": [
        "dist_w_pos = stereo_count_w_pos.value_counts()\n",
        "dist_w_pos.plot(kind = 'bar')"
      ],
      "id": "dedefea8-066b-4599-82b8-baf576b9ceb2"
    },
    {
      "cell_type": "code",
      "execution_count": 130,
      "metadata": {},
      "outputs": [],
      "source": [
        "stereo_count_m_pos = q.loc[q.pronouns.eq('M') & q.quality.ge(4.5)].review.apply(tokenize).apply(\n",
        "    np.isin, args = (m_pos_lex_uni,)).apply(np.sum)"
      ],
      "id": "a72366d9-2b2f-4001-b485-158fd1002683"
    },
    {
      "cell_type": "code",
      "execution_count": 131,
      "metadata": {},
      "outputs": [],
      "source": [
        "dist_m_pos = stereo_count_m_pos.value_counts()"
      ],
      "id": "aa666a50-7194-47b8-8fa2-8e1ae738617e"
    },
    {
      "cell_type": "code",
      "execution_count": 132,
      "metadata": {},
      "outputs": [
        {
          "output_type": "display_data",
          "metadata": {},
          "data": {
            "image/png": "[encoded data removed]"
          }
        }
      ],
      "source": [
        "dist_m_pos.plot(kind = 'bar')"
      ],
      "id": "3056b449-58cd-4267-8748-b9da93ec02a8"
    },
    {
      "cell_type": "code",
      "execution_count": 133,
      "metadata": {},
      "outputs": [],
      "source": [
        "stereo_count_w_neg = q.loc[q.pronouns.eq('F') & q.quality.le(2.5)].review.apply(tokenize).apply(\n",
        "    np.isin, args = (w_neg_lex_uni,)).apply(np.sum)"
      ],
      "id": "22c92288-d2e8-4461-85b9-46ac66942121"
    },
    {
      "cell_type": "code",
      "execution_count": 134,
      "metadata": {},
      "outputs": [],
      "source": [
        "dist_w_neg = stereo_count_w_neg.value_counts().sort_index()"
      ],
      "id": "a1d8e3ad-c3ff-48a8-91b9-12f6ee868d8b"
    },
    {
      "cell_type": "code",
      "execution_count": 135,
      "metadata": {},
      "outputs": [
        {
          "output_type": "display_data",
          "metadata": {},
          "data": {
            "image/png": "[encoded data removed]"
          }
        }
      ],
      "source": [
        "dist_w_neg.plot(kind = 'bar')"
      ],
      "id": "93cb893f-c994-4a57-8332-1ae75ac34036"
    },
    {
      "cell_type": "code",
      "execution_count": 136,
      "metadata": {},
      "outputs": [],
      "source": [
        "stereo_count_m_neg = q.loc[q.pronouns.eq('M') & q.quality.le(2.5)].review.apply(tokenize).apply(\n",
        "    np.isin, args = (m_neg_lex_uni,)).apply(np.sum)"
      ],
      "id": "fe5a75f6-143c-4da3-9973-11260c8517db"
    },
    {
      "cell_type": "code",
      "execution_count": 137,
      "metadata": {},
      "outputs": [],
      "source": [
        "dist_m_neg = stereo_count_m_neg.value_counts()"
      ],
      "id": "c5f73dec-197b-4499-a1c6-375c97b599c8"
    },
    {
      "cell_type": "code",
      "execution_count": 138,
      "metadata": {},
      "outputs": [
        {
          "output_type": "display_data",
          "metadata": {},
          "data": {
            "image/png": "[encoded data removed]"
          }
        }
      ],
      "source": [
        "dist_m_neg.plot(kind = 'bar')"
      ],
      "id": "c8b85d84-388b-43e0-a74e-4fc1d5b3ddc7"
    },
    {
      "cell_type": "code",
      "execution_count": 139,
      "metadata": {},
      "outputs": [
        {
          "output_type": "display_data",
          "metadata": {},
          "data": {
            "text/plain": [
              "review\n",
              "0    2218\n",
              "1     240\n",
              "2      37\n",
              "3      10\n",
              "4       9\n",
              "5       1\n",
              "Name: count, dtype: int64"
            ]
          }
        }
      ],
      "source": [
        "dist_m_neg"
      ],
      "id": "bc30f7ed-aa4b-49cd-b8b6-a3f904ead4bc"
    },
    {
      "cell_type": "code",
      "execution_count": 140,
      "metadata": {},
      "outputs": [],
      "source": [
        "from scipy.stats import chi2_contingency"
      ],
      "id": "7dc12035-ad18-4b76-9ae1-f8e6f1b71836"
    },
    {
      "cell_type": "code",
      "execution_count": 141,
      "metadata": {},
      "outputs": [],
      "source": [
        "table = np.zeros((2,  max(dist_w_neg.shape[0], dist_m_neg.shape[0])), dtype = int)\n",
        "table[0, :dist_w_neg.shape[0]] = dist_w_neg.values\n",
        "table[1, :dist_m_neg.shape[0]] = dist_m_neg.values"
      ],
      "id": "d22b9ce5-724f-4702-b984-fe3743e01b4e"
    },
    {
      "cell_type": "code",
      "execution_count": 142,
      "metadata": {},
      "outputs": [
        {
          "output_type": "display_data",
          "metadata": {},
          "data": {
            "text/plain": [
              "array([[ 278,  229,  146,   86,   37,   20,    3,    1,    1],\n",
              "       [2218,  240,   37,   10,    9,    1,    0,    0,    0]])"
            ]
          }
        }
      ],
      "source": [
        "table"
      ],
      "id": "c00206dd-8b13-4c2e-b639-08000509c17a"
    },
    {
      "cell_type": "code",
      "execution_count": 143,
      "metadata": {},
      "outputs": [],
      "source": [
        "chi2_table = pd.DataFrame(table, index = ['F', 'M'])"
      ],
      "id": "2fb4f434-9de7-4794-9294-fc9d00028706"
    },
    {
      "cell_type": "code",
      "execution_count": 144,
      "metadata": {},
      "outputs": [
        {
          "output_type": "display_data",
          "metadata": {},
          "data": {
            "text/html": [
              "\n",
              "</div>"
            ]
          }
        }
      ],
      "source": [
        "chi2_table"
      ],
      "id": "3a6adb10-2f71-44a8-a9ab-1b1cb310d120"
    },
    {
      "cell_type": "code",
      "execution_count": 145,
      "metadata": {},
      "outputs": [
        {
          "output_type": "display_data",
          "metadata": {},
          "data": {
            "text/plain": [
              "Chi2ContingencyResult(statistic=np.float64(1073.2259818314606), pvalue=np.float64(2.3184709261716882e-226), dof=8, expected_freq=array([[6.02924005e+02, 1.13289807e+02, 4.42047648e+01, 2.31893848e+01,\n",
              "        1.11115802e+01, 5.07267793e+00, 7.24668275e-01, 2.41556092e-01,\n",
              "        2.41556092e-01],\n",
              "       [1.89307600e+03, 3.55710193e+02, 1.38795235e+02, 7.28106152e+01,\n",
              "        3.48884198e+01, 1.59273221e+01, 2.27533172e+00, 7.58443908e-01,\n",
              "        7.58443908e-01]]))"
            ]
          }
        }
      ],
      "source": [
        "chi2_contingency(chi2_table)"
      ],
      "id": "ae2235ff-ce83-4aa6-b581-65b1be3c7693"
    },
    {
      "cell_type": "code",
      "execution_count": 146,
      "metadata": {},
      "outputs": [],
      "source": [
        "table = np.zeros((2, max(dist_w_pos.shape[0], dist_m_pos.shape[0])), dtype = int)\n",
        "table[0, :dist_w_pos.shape[0]] = dist_w_pos.values\n",
        "table[1, :dist_m_pos.shape[0]] = dist_m_pos.values"
      ],
      "id": "08caeb59-fc5d-42f4-8ffe-d99ff05e50cf"
    },
    {
      "cell_type": "code",
      "execution_count": 147,
      "metadata": {},
      "outputs": [],
      "source": [
        "chi2_table = pd.DataFrame(table, index = ['F', 'M'])"
      ],
      "id": "9a303cdb-e2ea-4435-80f0-896b80d41aae"
    },
    {
      "cell_type": "code",
      "execution_count": 148,
      "metadata": {},
      "outputs": [
        {
          "output_type": "display_data",
          "metadata": {},
          "data": {
            "text/plain": [
              "Chi2ContingencyResult(statistic=np.float64(35.680653072523995), pvalue=np.float64(1.1002520334386392e-06), dof=5, expected_freq=array([[6.76990876e+02, 2.24479927e+02, 6.08759124e+01, 9.13138686e+00,\n",
              "        1.26824818e+00, 2.53649635e-01],\n",
              "       [1.99200912e+03, 6.60520073e+02, 1.79124088e+02, 2.68686131e+01,\n",
              "        3.73175182e+00, 7.46350365e-01]]))"
            ]
          }
        }
      ],
      "source": [
        "chi2_contingency(chi2_table)"
      ],
      "id": "1b671b41-4db7-4b29-872d-6c035505a7c8"
    }
  ],
  "nbformat": 4,
  "nbformat_minor": 5,
  "metadata": {
    "editor": "DataCamp Workspace",
    "kernelspec": {
      "name": "python3",
      "display_name": "nlp",
      "language": "python"
    },
    "language_info": {
      "name": "python",
      "codemirror_mode": {
        "name": "ipython",
        "version": "3"
      },
      "file_extension": ".py",
      "mimetype": "text/x-python",
      "nbconvert_exporter": "python",
      "pygments_lexer": "ipython3",
      "version": "3.12.4"
    }
  }
}
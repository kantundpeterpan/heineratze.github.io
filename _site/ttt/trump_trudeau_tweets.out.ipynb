{
  "cells": [
    {
      "cell_type": "markdown",
      "metadata": {},
      "source": [
        "# 1. Tweet classification: Trump vs. Trudeau"
      ],
      "id": "63042a0e-316b-48df-9597-38c87597ba03"
    },
    {
      "cell_type": "raw",
      "metadata": {
        "raw_mimetype": "text/html"
      },
      "source": [
        "<p>"
      ],
      "id": "a7847230-dfad-4ab5-a6ac-0d1f6ddd7973"
    },
    {
      "cell_type": "markdown",
      "metadata": {},
      "source": [
        "So you think you can classify text? How about tweets? In this notebook,\n",
        "we’ll take a dive into the world of social media text classification by\n",
        "investigating how to properly classify tweets from two prominent North\n",
        "American politicians: Donald Trump and Justin Trudeau."
      ],
      "id": "d2a58fe6-063f-440e-af6c-24bf87c09203"
    },
    {
      "cell_type": "raw",
      "metadata": {
        "raw_mimetype": "text/html"
      },
      "source": [
        "</p>"
      ],
      "id": "4f22b8fb-219c-4128-864e-afc46ead8453"
    },
    {
      "cell_type": "raw",
      "metadata": {
        "raw_mimetype": "text/html"
      },
      "source": [
        "<p>"
      ],
      "id": "60444c76-352d-42fe-beb8-a1887c297083"
    },
    {
      "cell_type": "markdown",
      "metadata": {},
      "source": [
        "<img src=\"https://upload.wikimedia.org/wikipedia/commons/thumb/4/47/President_Donald_Trump_and_Prime_Minister_Justin_Trudeau_Joint_Press_Conference%2C_February_13%2C_2017.jpg/800px-President_Donald_Trump_and_Prime_Minister_Justin_Trudeau_Joint_Press_Conference%2C_February_13%2C_2017.jpg\" alt=\"Donald Trump and Justin Trudeau shaking hands.\" height=\"50%\" width=\"50%\">"
      ],
      "id": "320fb5f8-c5a1-454f-9017-1db73f712193"
    },
    {
      "cell_type": "raw",
      "metadata": {
        "raw_mimetype": "text/html"
      },
      "source": [
        "</p>"
      ],
      "id": "36ef88f5-ee51-4ea0-b2cb-abd63f5b6a74"
    },
    {
      "cell_type": "raw",
      "metadata": {
        "raw_mimetype": "text/html"
      },
      "source": [
        "<p>"
      ],
      "id": "7908f9bd-3ffb-473b-ba88-834272d061b8"
    },
    {
      "cell_type": "markdown",
      "metadata": {},
      "source": [
        "<a href=\"https://commons.wikimedia.org/wiki/File:President_Donald_Trump_and_Prime_Minister_Justin_Trudeau_Joint_Press_Conference,_February_13,_2017.jpg\">Photo\n",
        "Credit: Executive Office of the President of the United States</a>"
      ],
      "id": "9e69ff55-90fe-4f58-90e4-504115c926c1"
    },
    {
      "cell_type": "raw",
      "metadata": {
        "raw_mimetype": "text/html"
      },
      "source": [
        "</p>"
      ],
      "id": "6809977a-66c5-4d95-9c34-b0eea32085a9"
    },
    {
      "cell_type": "raw",
      "metadata": {
        "raw_mimetype": "text/html"
      },
      "source": [
        "<p>"
      ],
      "id": "e43c312a-330a-46bb-80c4-468a85600c06"
    },
    {
      "cell_type": "markdown",
      "metadata": {},
      "source": [
        "Tweets pose specific problems to NLP, including the fact they are\n",
        "shorter texts. There are also plenty of platform-specific conventions to\n",
        "give you hassles: mentions, #hashtags, emoji, links and short-hand\n",
        "phrases (ikr?). Can we overcome those challenges and build a useful\n",
        "classifier for these two tweeters? Yes! Let’s get started."
      ],
      "id": "27b5e1a2-cd64-43fd-b31e-d1d74c7861c0"
    },
    {
      "cell_type": "raw",
      "metadata": {
        "raw_mimetype": "text/html"
      },
      "source": [
        "</p>"
      ],
      "id": "7b464648-9bf4-4bed-a1bd-3fe22cf411e3"
    },
    {
      "cell_type": "raw",
      "metadata": {
        "raw_mimetype": "text/html"
      },
      "source": [
        "<p>"
      ],
      "id": "7400fc6a-285e-43b0-8ea8-f56d249b7072"
    },
    {
      "cell_type": "markdown",
      "metadata": {},
      "source": [
        "To begin, we will import all the tools we need from scikit-learn. We\n",
        "will need to properly vectorize our data (<code>CountVectorizer</code>\n",
        "and <code>TfidfVectorizer</code>). And we will also want to import some\n",
        "models, including <code>MultinomialNB</code> from the\n",
        "<code>naive_bayes</code> module, <code>LinearSVC</code> from the\n",
        "<code>svm</code> module and <code>PassiveAggressiveClassifier</code>\n",
        "from the <code>linear_model</code> module. Finally, we’ll need\n",
        "<code>sklearn.metrics</code> and <code>train_test_split</code> and\n",
        "<code>GridSearchCV</code> from the <code>model_selection</code> module\n",
        "to evaluate and optimize our model."
      ],
      "id": "b295fc27-3807-4927-833c-d0d128b15dde"
    },
    {
      "cell_type": "raw",
      "metadata": {
        "raw_mimetype": "text/html"
      },
      "source": [
        "</p>"
      ],
      "id": "9c6336e2-d60f-46f5-bef7-557d358a52ab"
    },
    {
      "cell_type": "code",
      "execution_count": 2,
      "metadata": {
        "dc": {
          "key": "4"
        },
        "tags": [
          "sample_code"
        ]
      },
      "outputs": [],
      "source": [
        "# Set seed for reproducibility\n",
        "import random; random.seed(53)\n",
        "\n",
        "# Import all we need from sklearn\n",
        "from sklearn.feature_extraction.text import CountVectorizer, TfidfVectorizer\n",
        "from sklearn.model_selection import train_test_split\n",
        "from sklearn.naive_bayes import MultinomialNB\n",
        "from sklearn.svm import LinearSVC\n",
        "from sklearn import metrics"
      ],
      "id": "cell-2"
    },
    {
      "cell_type": "markdown",
      "metadata": {},
      "source": [
        "## 2. Transforming our collected data"
      ],
      "id": "24318e43-870b-4d14-bccb-3cf5fe380f30"
    },
    {
      "cell_type": "raw",
      "metadata": {
        "raw_mimetype": "text/html"
      },
      "source": [
        "<p>"
      ],
      "id": "6062a262-af3a-4a8e-96fc-e17fbc9ceeb4"
    },
    {
      "cell_type": "markdown",
      "metadata": {},
      "source": [
        "To begin, let’s start with a corpus of tweets which were collected in\n",
        "November 2017. They are available in CSV format. We’ll use a Pandas\n",
        "DataFrame to help import the data and pass it to scikit-learn for\n",
        "further processing."
      ],
      "id": "a7fcaf40-0343-4163-9e77-4e242e32221c"
    },
    {
      "cell_type": "raw",
      "metadata": {
        "raw_mimetype": "text/html"
      },
      "source": [
        "</p>"
      ],
      "id": "e15a220d-90ee-4362-bb69-d4e9d7d77baa"
    },
    {
      "cell_type": "raw",
      "metadata": {
        "raw_mimetype": "text/html"
      },
      "source": [
        "<p>"
      ],
      "id": "b1246b00-f48c-4966-8fd2-d99f8cf3aa76"
    },
    {
      "cell_type": "markdown",
      "metadata": {},
      "source": [
        "Since the data has been collected via the Twitter API and not split into\n",
        "test and training sets, we’ll need to do this. Let’s use\n",
        "<code>train_test_split()</code> with <code>random_state=53</code> and a\n",
        "test size of 0.33, just as we did in the DataCamp course. This will\n",
        "ensure we have enough test data and we’ll get the same results no matter\n",
        "where or when we run this code."
      ],
      "id": "b4bc2ff8-9e9e-4d41-b072-a2447d5ebccf"
    },
    {
      "cell_type": "raw",
      "metadata": {
        "raw_mimetype": "text/html"
      },
      "source": [
        "</p>"
      ],
      "id": "e61d05e7-ea56-42cf-84a3-ffd14f8c072b"
    },
    {
      "cell_type": "code",
      "execution_count": 4,
      "metadata": {
        "dc": {
          "key": "11"
        },
        "tags": [
          "sample_code"
        ]
      },
      "outputs": [],
      "source": [
        "import pandas as pd\n",
        "\n",
        "# Load data\n",
        "tweet_df = pd.read_csv('datasets/tweets.csv')\n",
        "\n",
        "# Create target\n",
        "y = tweet_df['author']\n",
        "X = tweet_df.drop('author', axis = 1)\n",
        "\n",
        "# Split training and testing data\n",
        "X_train, X_test, y_train, y_test = train_test_split(X, y, random_state = 53, test_size = 0.33)"
      ],
      "id": "cell-4"
    },
    {
      "cell_type": "markdown",
      "metadata": {},
      "source": [
        "## 3. Vectorize the tweets"
      ],
      "id": "1dc41e6a-b5c7-4c5d-87d9-f3ebcb340d98"
    },
    {
      "cell_type": "raw",
      "metadata": {
        "raw_mimetype": "text/html"
      },
      "source": [
        "<p>"
      ],
      "id": "6c68a5e5-369a-4fe8-a5c3-315411f2eeb2"
    },
    {
      "cell_type": "markdown",
      "metadata": {},
      "source": [
        "We have the training and testing data all set up, but we need to create\n",
        "vectorized representations of the tweets in order to apply machine\n",
        "learning."
      ],
      "id": "c06ad4b0-b597-4cc2-b968-6ec4c98a26e0"
    },
    {
      "cell_type": "raw",
      "metadata": {
        "raw_mimetype": "text/html"
      },
      "source": [
        "</p>"
      ],
      "id": "b8f1eb65-1502-441e-8230-b2d2db322457"
    },
    {
      "cell_type": "raw",
      "metadata": {
        "raw_mimetype": "text/html"
      },
      "source": [
        "<p>"
      ],
      "id": "6587acf8-f323-4635-99ee-23d5db974272"
    },
    {
      "cell_type": "markdown",
      "metadata": {},
      "source": [
        "To do so, we will utilize the <code>CountVectorizer</code> and\n",
        "<code>TfidfVectorizer</code> classes which we will first need to fit to\n",
        "the data."
      ],
      "id": "b803e051-7763-49e6-a137-dab02f14c669"
    },
    {
      "cell_type": "raw",
      "metadata": {
        "raw_mimetype": "text/html"
      },
      "source": [
        "</p>"
      ],
      "id": "9bd60410-99da-4b8c-8d9c-3d6e733fe724"
    },
    {
      "cell_type": "raw",
      "metadata": {
        "raw_mimetype": "text/html"
      },
      "source": [
        "<p>"
      ],
      "id": "e83b67e1-6fdb-41e9-b46c-2d63eab02820"
    },
    {
      "cell_type": "markdown",
      "metadata": {},
      "source": [
        "Once this is complete, we can start modeling with the new vectorized\n",
        "tweets!"
      ],
      "id": "c7c6b499-a58d-441b-9d4a-f1b5f59fd4ab"
    },
    {
      "cell_type": "raw",
      "metadata": {
        "raw_mimetype": "text/html"
      },
      "source": [
        "</p>"
      ],
      "id": "ef08ec67-63fd-4e7c-95f4-b749b2e6fe70"
    },
    {
      "cell_type": "code",
      "execution_count": 6,
      "metadata": {
        "dc": {
          "key": "18"
        },
        "tags": [
          "sample_code"
        ]
      },
      "outputs": [],
      "source": [
        "# Initialize count vectorizer\n",
        "count_vectorizer = CountVectorizer(max_df = 0.9, min_df = 0.05, stop_words = 'english')\n",
        "count_vectorizer.fit(X_train['status'])\n",
        "\n",
        "# Create count train and test variables\n",
        "count_train = count_vectorizer.transform(X_train['status'])\n",
        "count_test = count_vectorizer.transform(X_test['status'])\n",
        "\n",
        "# Initialize tfidf vectorizer\n",
        "tfidf_vectorizer = TfidfVectorizer(stop_words = 'english', max_df = 0.9, min_df = 0.05)\\\n",
        "                    .fit(X_train['status'])\n",
        "\n",
        "# Create tfidf train and test variables\n",
        "tfidf_train = tfidf_vectorizer.transform(X_train['status'])\n",
        "tfidf_test = tfidf_vectorizer.transform(X_test['status'])"
      ],
      "id": "cell-6"
    },
    {
      "cell_type": "markdown",
      "metadata": {},
      "source": [
        "## 4. Training a multinomial naive Bayes model"
      ],
      "id": "ca79cdbb-afee-4f8c-8646-00b6f7265728"
    },
    {
      "cell_type": "raw",
      "metadata": {
        "raw_mimetype": "text/html"
      },
      "source": [
        "<p>"
      ],
      "id": "edf15d29-8360-4df6-8ea3-5fdf075d2eee"
    },
    {
      "cell_type": "markdown",
      "metadata": {},
      "source": [
        "Now that we have the data in vectorized form, we can train the first\n",
        "model. Investigate using the Multinomial Naive Bayes model with both the\n",
        "<code>CountVectorizer</code> and <code>TfidfVectorizer</code> data.\n",
        "Which do will perform better? How come?"
      ],
      "id": "36d9d2e7-c1ea-46e1-8e19-f32eba07b034"
    },
    {
      "cell_type": "raw",
      "metadata": {
        "raw_mimetype": "text/html"
      },
      "source": [
        "</p>"
      ],
      "id": "46ad8cf1-dafc-455a-a577-1d78776569c7"
    },
    {
      "cell_type": "raw",
      "metadata": {
        "raw_mimetype": "text/html"
      },
      "source": [
        "<p>"
      ],
      "id": "edba0522-1013-4149-a02e-2d452bfba9bf"
    },
    {
      "cell_type": "markdown",
      "metadata": {},
      "source": [
        "To assess the accuracies, we will print the test sets accuracy scores\n",
        "for both models."
      ],
      "id": "74d6f44a-6e41-47c8-8eb2-b7dae81a79c9"
    },
    {
      "cell_type": "raw",
      "metadata": {
        "raw_mimetype": "text/html"
      },
      "source": [
        "</p>"
      ],
      "id": "99d32e98-fd8a-40bb-9acc-92053e382a62"
    },
    {
      "cell_type": "code",
      "execution_count": 8,
      "metadata": {
        "dc": {
          "key": "25"
        },
        "tags": [
          "sample_code"
        ]
      },
      "outputs": [
        {
          "output_type": "stream",
          "name": "stdout",
          "text": [
            "NaiveBayes Tfidf Score:  0.803030303030303\n",
            "NaiveBayes Count Score:  0.7954545454545454"
          ]
        }
      ],
      "source": [
        "# Create a MulitnomialNB model\n",
        "tfidf_nb = MultinomialNB().fit(tfidf_train, y_train)\n",
        "\n",
        "# ... Train your model here ...\n",
        "\n",
        "# Run predict on your TF-IDF test data to get your predictions\n",
        "tfidf_nb_pred = tfidf_nb.predict(tfidf_test)\n",
        "\n",
        "# Calculate the accuracy of your predictions\n",
        "tfidf_nb_score = metrics.accuracy_score(y_test, tfidf_nb_pred)\n",
        "\n",
        "# Create a MulitnomialNB model\n",
        "count_nb = MultinomialNB().fit(count_train, y_train)\n",
        "# ... Train your model here ...\n",
        "\n",
        "# Run predict on your count test data to get your predictions\n",
        "count_nb_pred = count_nb.predict(count_test)\n",
        "\n",
        "# Calculate the accuracy of your predictions\n",
        "count_nb_score = metrics.accuracy_score(y_test, count_nb_pred)\n",
        "\n",
        "print('NaiveBayes Tfidf Score: ', tfidf_nb_score)\n",
        "print('NaiveBayes Count Score: ', count_nb_score)"
      ],
      "id": "cell-8"
    },
    {
      "cell_type": "markdown",
      "metadata": {},
      "source": [
        "## 5. Evaluating our model using a confusion matrix"
      ],
      "id": "8ad008c7-94e3-464b-a117-16955e983704"
    },
    {
      "cell_type": "raw",
      "metadata": {
        "raw_mimetype": "text/html"
      },
      "source": [
        "<p>"
      ],
      "id": "9db6f912-3e7a-4bac-9c6e-a9516e27f3d3"
    },
    {
      "cell_type": "markdown",
      "metadata": {},
      "source": [
        "We see that the TF-IDF model performs better than the count-based\n",
        "approach. Based on what we know from the NLP fundamentals course, why\n",
        "might that be? We know that TF-IDF allows unique tokens to have a\n",
        "greater weight - perhaps tweeters are using specific important words\n",
        "that identify them! Let’s continue the investigation."
      ],
      "id": "dba0ec43-885a-4ef4-84ba-84db94bc3b03"
    },
    {
      "cell_type": "raw",
      "metadata": {
        "raw_mimetype": "text/html"
      },
      "source": [
        "</p>"
      ],
      "id": "7cad43c0-f519-438b-a827-a3e8bdf4b1a9"
    },
    {
      "cell_type": "raw",
      "metadata": {
        "raw_mimetype": "text/html"
      },
      "source": [
        "<p>"
      ],
      "id": "84b4f905-2009-4a38-bbce-ce19f4a018a1"
    },
    {
      "cell_type": "markdown",
      "metadata": {},
      "source": [
        "For classification tasks, an accuracy score doesn’t tell the whole\n",
        "picture. A better evaluation can be made if we look at the confusion\n",
        "matrix, which shows the number correct and incorrect classifications\n",
        "based on each class. We can use the metrics, True Positives, False\n",
        "Positives, False Negatives, and True Negatives, to determine how well\n",
        "the model performed on a given class. How many times was Trump\n",
        "misclassified as Trudeau?"
      ],
      "id": "140c379a-8b57-4599-b808-dbd8ed6ab092"
    },
    {
      "cell_type": "raw",
      "metadata": {
        "raw_mimetype": "text/html"
      },
      "source": [
        "</p>"
      ],
      "id": "d9315714-447f-432b-8e52-5d0c2788d0d4"
    },
    {
      "cell_type": "code",
      "execution_count": 10,
      "metadata": {
        "dc": {
          "key": "32"
        },
        "tags": [
          "sample_code"
        ]
      },
      "outputs": [
        {
          "output_type": "stream",
          "name": "stdout",
          "text": [
            "Confusion matrix, without normalization\n",
            "Confusion matrix, without normalization"
          ]
        },
        {
          "output_type": "display_data",
          "metadata": {},
          "data": {
            "image/png": "[encoded data removed]"
          }
        },
        {
          "output_type": "display_data",
          "metadata": {},
          "data": {
            "image/png": "[encoded data removed]"
          }
        }
      ],
      "source": [
        "%matplotlib inline\n",
        "\n",
        "from datasets.helper_functions import plot_confusion_matrix\n",
        "\n",
        "# Calculate the confusion matrices for the tfidf_nb model and count_nb models\n",
        "tfidf_nb_cm = metrics.confusion_matrix(y_test, tfidf_nb_pred)\n",
        "count_nb_cm = metrics.confusion_matrix(y_test, count_nb_pred)\n",
        "\n",
        "# Plot the tfidf_nb_cm confusion matrix\n",
        "plot_confusion_matrix(tfidf_nb_cm, classes=['Donald J. Trump', 'Justin Trudeau'],\n",
        "                      title=\"TF-IDF NB Confusion Matrix\")\n",
        "\n",
        "# Plot the count_nb_cm confusion matrix without overwriting the first plot \n",
        "plot_confusion_matrix(count_nb_cm, classes=['Donald J. Trump', 'Justin Trudeau'],\n",
        "                      title=\"Count NB Confusion matrix\", figure=1)"
      ],
      "id": "cell-10"
    },
    {
      "cell_type": "markdown",
      "metadata": {},
      "source": [
        "## 6. Trying out another classifier: Linear SVC"
      ],
      "id": "84c54af4-ef1f-4519-8ef1-5fb61c839e76"
    },
    {
      "cell_type": "raw",
      "metadata": {
        "raw_mimetype": "text/html"
      },
      "source": [
        "<p>"
      ],
      "id": "939dcc66-973b-4ae7-908e-797800324c64"
    },
    {
      "cell_type": "markdown",
      "metadata": {},
      "source": [
        "So the Bayesian model only has one prediction difference between the\n",
        "TF-IDF and count vectorizers – fairly impressive! Interestingly, there\n",
        "is some confusion when the predicted label is Trump but the actual\n",
        "tweeter is Trudeau. If we were going to use this model, we would want to\n",
        "investigate what tokens are causing the confusion in order to improve\n",
        "the model."
      ],
      "id": "bae0117f-078b-4518-afbd-afce9bfde75d"
    },
    {
      "cell_type": "raw",
      "metadata": {
        "raw_mimetype": "text/html"
      },
      "source": [
        "</p>"
      ],
      "id": "daaedfff-ab41-42e1-b0f2-2efd72ab0c56"
    },
    {
      "cell_type": "raw",
      "metadata": {
        "raw_mimetype": "text/html"
      },
      "source": [
        "<p>"
      ],
      "id": "f533e872-026e-4a8c-bb00-471cfb5f53ab"
    },
    {
      "cell_type": "markdown",
      "metadata": {},
      "source": [
        "Now that we’ve seen what the Bayesian model can do, how about trying a\n",
        "different approach?\n",
        "<a href=\"https://scikit-learn.org/stable/modules/generated/sklearn.svm.LinearSVC.html\">LinearSVC</a>\n",
        "is another popular choice for text classification. Let’s see if using it\n",
        "with the TF-IDF vectors improves the accuracy of the classifier!"
      ],
      "id": "ab648230-e428-47f1-a26b-521e5aee8bf9"
    },
    {
      "cell_type": "raw",
      "metadata": {
        "raw_mimetype": "text/html"
      },
      "source": [
        "</p>"
      ],
      "id": "d2b7e537-df94-4d17-a297-6c25e0fef5ab"
    },
    {
      "cell_type": "code",
      "execution_count": 12,
      "metadata": {
        "dc": {
          "key": "39"
        },
        "tags": [
          "sample_code"
        ]
      },
      "outputs": [
        {
          "output_type": "stream",
          "name": "stdout",
          "text": [
            "LinearSVC Score:   0.841\n",
            "Confusion matrix, without normalization"
          ]
        },
        {
          "output_type": "display_data",
          "metadata": {},
          "data": {
            "image/png": "[encoded data removed]"
          }
        }
      ],
      "source": [
        "# Create a LinearSVM model\n",
        "tfidf_svc = LinearSVC().fit(tfidf_train, y_train)\n",
        "\n",
        "# Run predict on your tfidf test data to get your predictions\n",
        "tfidf_svc_pred = tfidf_svc.predict(tfidf_test)\n",
        "\n",
        "# Calculate your accuracy using the metrics module\n",
        "tfidf_svc_score = metrics.accuracy_score(y_test, tfidf_svc_pred)\n",
        "\n",
        "print(\"LinearSVC Score:   %0.3f\" % tfidf_svc_score)\n",
        "\n",
        "# Calculate the confusion matrices for the tfidf_svc model\n",
        "svc_cm = metrics.confusion_matrix(y_test, tfidf_svc_pred)\n",
        "\n",
        "# Plot the confusion matrix using the plot_confusion_matrix function\n",
        "plot_confusion_matrix(svc_cm, classes = ['Donald J. Trump', 'Justin Trudeau'],\n",
        "                      title=\"TF-IDF LinearSVC Confusion Matrix\")"
      ],
      "id": "cell-12"
    },
    {
      "cell_type": "markdown",
      "metadata": {},
      "source": [
        "## 7. Introspecting our top model"
      ],
      "id": "27b2fa0c-9f03-474c-8804-757466933d03"
    },
    {
      "cell_type": "raw",
      "metadata": {
        "raw_mimetype": "text/html"
      },
      "source": [
        "<p>"
      ],
      "id": "8dd15c8f-ba59-4530-93cf-0c8354fe5fe9"
    },
    {
      "cell_type": "markdown",
      "metadata": {},
      "source": [
        "Wow, the LinearSVC model is even better than the Multinomial Bayesian\n",
        "one. Nice work! Via the confusion matrix we can see that, although there\n",
        "is still some confusion where Trudeau’s tweets are classified as\n",
        "Trump’s, the False Positive rate is better than the previous model. So,\n",
        "we have a performant model, right?"
      ],
      "id": "8a80dace-f3ac-4a5c-b3ec-acdeac3e3868"
    },
    {
      "cell_type": "raw",
      "metadata": {
        "raw_mimetype": "text/html"
      },
      "source": [
        "</p>"
      ],
      "id": "cfc8bf0a-6fd5-4142-b728-f1bf21c28cba"
    },
    {
      "cell_type": "raw",
      "metadata": {
        "raw_mimetype": "text/html"
      },
      "source": [
        "<p>"
      ],
      "id": "1e8f6830-9603-461d-956d-d1d9b3f73a2d"
    },
    {
      "cell_type": "markdown",
      "metadata": {},
      "source": [
        "We might be able to continue tweaking and improving all of the previous\n",
        "models by learning more about parameter optimization or applying some\n",
        "better preprocessing of the tweets."
      ],
      "id": "3fb2484f-42e9-435c-819b-5d8141731871"
    },
    {
      "cell_type": "raw",
      "metadata": {
        "raw_mimetype": "text/html"
      },
      "source": [
        "</p>"
      ],
      "id": "7d297b34-4e3f-4f05-bbe0-344093a55178"
    },
    {
      "cell_type": "raw",
      "metadata": {
        "raw_mimetype": "text/html"
      },
      "source": [
        "<p>"
      ],
      "id": "678107b4-5c2f-44bb-aed6-5f2f4c87d6cb"
    },
    {
      "cell_type": "markdown",
      "metadata": {},
      "source": [
        "Now let’s see what the model has learned. Using the LinearSVC Classifier\n",
        "with two classes (Trump and Trudeau) we can sort the features (tokens),\n",
        "by their weight and see the most important tokens for both Trump and\n",
        "Trudeau. What are the most Trump-like or Trudeau-like words? Did the\n",
        "model learn something useful to distinguish between these two men?"
      ],
      "id": "0b06dfc0-c569-4e38-bea4-f0baccdd732b"
    },
    {
      "cell_type": "raw",
      "metadata": {
        "raw_mimetype": "text/html"
      },
      "source": [
        "</p>"
      ],
      "id": "77ace901-0088-46e8-96f2-a32c6ef68bce"
    },
    {
      "cell_type": "code",
      "execution_count": 14,
      "metadata": {
        "dc": {
          "key": "46"
        },
        "tags": [
          "sample_code"
        ]
      },
      "outputs": [
        {
          "output_type": "display_data",
          "metadata": {},
          "data": {
            "image/png": "[encoded data removed]"
          }
        },
        {
          "output_type": "stream",
          "name": "stdout",
          "text": [
            "[(-0.3959834966911922, 'great'),\n",
            " (-0.24645580091925237, 'thank'),\n",
            " (0.06257998949180026, 'president'),\n",
            " (0.48211745246750215, 'https'),\n",
            " (0.5960555762649068, 'vietnam'),\n",
            " (0.6155609686456073, 'amp'),\n",
            " (0.7725857577713344, 'le'),\n",
            " (0.8213735137856691, 'les'),\n",
            " (0.8286549508433744, 'today'),\n",
            " (1.1869092357816051, 'du'),\n",
            " (1.3143518952322126, 'pour'),\n",
            " (1.4122560793508427, 'nous'),\n",
            " (1.4612710235935042, 'rt'),\n",
            " (1.4991808273544363, 'et'),\n",
            " (1.50564270245237, 'la'),\n",
            " (1.6567934485943738, 'canada')]"
          ]
        }
      ],
      "source": [
        "from datasets.helper_functions import plot_and_return_top_features\n",
        "\n",
        "# Import pprint from pprint\n",
        "from pprint import pprint\n",
        "\n",
        "# Get the top features using the plot_and_return_top_features function and your top model and tfidf vectorizer\n",
        "top_features = plot_and_return_top_features(tfidf_svc, tfidf_vectorizer)\n",
        "\n",
        "# pprint the top features\n",
        "pprint(top_features)"
      ],
      "id": "cell-14"
    },
    {
      "cell_type": "markdown",
      "metadata": {},
      "source": [
        "## 8. Bonus: can you write a Trump or Trudeau tweet?"
      ],
      "id": "3c6e79ac-cee8-4648-a27f-069a2e934a7b"
    },
    {
      "cell_type": "raw",
      "metadata": {
        "raw_mimetype": "text/html"
      },
      "source": [
        "<p>"
      ],
      "id": "5c09f50f-ebf9-4198-a783-338103500328"
    },
    {
      "cell_type": "markdown",
      "metadata": {},
      "source": [
        "So, what did our model learn? It seems like it learned that Trudeau\n",
        "tweets in French!"
      ],
      "id": "d5df8646-448a-42c7-91b5-6dfc34a92183"
    },
    {
      "cell_type": "raw",
      "metadata": {
        "raw_mimetype": "text/html"
      },
      "source": [
        "</p>"
      ],
      "id": "1efef354-aa48-4abf-a046-3bd9947c9e90"
    },
    {
      "cell_type": "raw",
      "metadata": {
        "raw_mimetype": "text/html"
      },
      "source": [
        "<p>"
      ],
      "id": "aeedd187-1b1e-466b-92ac-bbf2d478aab4"
    },
    {
      "cell_type": "markdown",
      "metadata": {},
      "source": [
        "I challenge you to write your own tweet using the knowledge gained to\n",
        "trick the model! Use the printed list or plot above to make some\n",
        "inferences about what words will classify your text as Trump or Trudeau.\n",
        "Can you fool the model into thinking you are Trump or Trudeau?"
      ],
      "id": "6df0f3d5-8246-4c5c-b57b-4c1ee448a69f"
    },
    {
      "cell_type": "raw",
      "metadata": {
        "raw_mimetype": "text/html"
      },
      "source": [
        "</p>"
      ],
      "id": "625988f2-83f0-45fd-bbc2-6594da2643be"
    },
    {
      "cell_type": "raw",
      "metadata": {
        "raw_mimetype": "text/html"
      },
      "source": [
        "<p>"
      ],
      "id": "09c27c85-58d0-4174-82bb-d85c38afc37e"
    },
    {
      "cell_type": "markdown",
      "metadata": {},
      "source": [
        "If you can write French, feel free to make your Trudeau-impersonation\n",
        "tweet in French! As you may have noticed, these French words are common\n",
        "words, or, “stop words”. You could remove both English and French stop\n",
        "words from the tweets as a preprocessing step, but that might decrease\n",
        "the accuracy of the model because Trudeau is the only French-speaker in\n",
        "the group. If you had a dataset with more than one French speaker, this\n",
        "would be a useful preprocessing step."
      ],
      "id": "c8cd42c9-1086-4619-a672-8cd89ce83cfa"
    },
    {
      "cell_type": "raw",
      "metadata": {
        "raw_mimetype": "text/html"
      },
      "source": [
        "</p>"
      ],
      "id": "e0c3c6d3-88d7-4556-9646-97c9cc09a8be"
    },
    {
      "cell_type": "raw",
      "metadata": {
        "raw_mimetype": "text/html"
      },
      "source": [
        "<p>"
      ],
      "id": "10c48bf2-6cfb-4100-9cb6-8fb9f0d20fb0"
    },
    {
      "cell_type": "markdown",
      "metadata": {},
      "source": [
        "Future work on this dataset could involve:"
      ],
      "id": "9ddfc73c-c388-41d7-b029-dfc0eae73346"
    },
    {
      "cell_type": "raw",
      "metadata": {
        "raw_mimetype": "text/html"
      },
      "source": [
        "</p>"
      ],
      "id": "eb35de71-6ce8-4521-bb6d-e0ff4db1577d"
    },
    {
      "cell_type": "raw",
      "metadata": {
        "raw_mimetype": "text/html"
      },
      "source": [
        "<ul>"
      ],
      "id": "c20382cb-5548-4b06-a55f-277112200215"
    },
    {
      "cell_type": "raw",
      "metadata": {
        "raw_mimetype": "text/html"
      },
      "source": [
        "<li>"
      ],
      "id": "0efec048-aeb1-420e-8d7e-485b41b6c93a"
    },
    {
      "cell_type": "markdown",
      "metadata": {},
      "source": [
        "Add extra preprocessing (such as removing URLs or French stop words) and\n",
        "see the effects"
      ],
      "id": "6591061d-5a61-4498-b1bb-49b8979c368c"
    },
    {
      "cell_type": "raw",
      "metadata": {
        "raw_mimetype": "text/html"
      },
      "source": [
        "</li>"
      ],
      "id": "6f3effa9-5796-489b-a228-ceccb6eb8314"
    },
    {
      "cell_type": "raw",
      "metadata": {
        "raw_mimetype": "text/html"
      },
      "source": [
        "<li>"
      ],
      "id": "36c6dca2-c2d8-4339-b3a7-546e8182c2b0"
    },
    {
      "cell_type": "markdown",
      "metadata": {},
      "source": [
        "Use GridSearchCV to improve both your Bayesian and LinearSVC models by\n",
        "finding the optimal parameters"
      ],
      "id": "afff7c06-9f5d-4090-88e0-22f7fe5344cd"
    },
    {
      "cell_type": "raw",
      "metadata": {
        "raw_mimetype": "text/html"
      },
      "source": [
        "</li>"
      ],
      "id": "63b9fb8a-63f0-436d-93c4-8d8f3abec6d2"
    },
    {
      "cell_type": "raw",
      "metadata": {
        "raw_mimetype": "text/html"
      },
      "source": [
        "<li>"
      ],
      "id": "fd05e24e-815e-4792-be41-99efe1d15e40"
    },
    {
      "cell_type": "markdown",
      "metadata": {},
      "source": [
        "Introspect your Bayesian model to determine what words are more Trump-\n",
        "or Trudeau- like"
      ],
      "id": "6b964a7e-bfe0-4809-8e4a-c5707203b87f"
    },
    {
      "cell_type": "raw",
      "metadata": {
        "raw_mimetype": "text/html"
      },
      "source": [
        "</li>"
      ],
      "id": "9b5e918c-8a5c-4096-a0f5-bb14cb9c1d2c"
    },
    {
      "cell_type": "raw",
      "metadata": {
        "raw_mimetype": "text/html"
      },
      "source": [
        "<li>"
      ],
      "id": "08a4c94b-a625-4970-b196-bd1ba932aff3"
    },
    {
      "cell_type": "markdown",
      "metadata": {},
      "source": [
        "Add more recent tweets to your dataset using tweepy and retrain"
      ],
      "id": "b1805f95-ca39-486a-888c-765a7b0c3dda"
    },
    {
      "cell_type": "raw",
      "metadata": {
        "raw_mimetype": "text/html"
      },
      "source": [
        "</li>"
      ],
      "id": "52b0bfd9-896f-41a2-a6ad-1cea98c5341f"
    },
    {
      "cell_type": "raw",
      "metadata": {
        "raw_mimetype": "text/html"
      },
      "source": [
        "</ul>"
      ],
      "id": "687ee837-fbf4-4f3e-ac05-96755a7f057e"
    },
    {
      "cell_type": "raw",
      "metadata": {
        "raw_mimetype": "text/html"
      },
      "source": [
        "<p>"
      ],
      "id": "dabcdb3f-8993-4636-b5c8-9366dbd13901"
    },
    {
      "cell_type": "markdown",
      "metadata": {},
      "source": [
        "Good luck writing your impersonation tweets – feel free to share them on\n",
        "Twitter!"
      ],
      "id": "954c3d38-8a55-47b0-8285-72cb6f5a0104"
    },
    {
      "cell_type": "raw",
      "metadata": {
        "raw_mimetype": "text/html"
      },
      "source": [
        "</p>"
      ],
      "id": "866260cd-a2ae-4250-90d7-7498c1b2db4e"
    },
    {
      "cell_type": "code",
      "execution_count": 16,
      "metadata": {
        "dc": {
          "key": "53"
        },
        "tags": [
          "sample_code"
        ]
      },
      "outputs": [
        {
          "output_type": "stream",
          "name": "stdout",
          "text": [
            "Predicted Trump tweet ['Donald J. Trump']\n",
            "Predicted Trudeau tweet ['Justin Trudeau']"
          ]
        }
      ],
      "source": [
        "# Write two tweets as strings, one which you want to classify as Trump and one as Trudeau\n",
        "trump_tweet = \"Covfeve\"\n",
        "trudeau_tweet = \"Make Canada great again!\"\n",
        "\n",
        "# Vectorize each tweet using the TF-IDF vectorizer's transform method\n",
        "# Note: `transform` needs the string in a list object (i.e. [trump_tweet])\n",
        "trump_tweet_vectorized = tfidf_vectorizer.transform([trump_tweet])\n",
        "trudeau_tweet_vectorized = tfidf_vectorizer.transform([trudeau_tweet])\n",
        "\n",
        "# Call the predict method on your vectorized tweets\n",
        "trump_tweet_pred = tfidf_svc.predict(trump_tweet_vectorized)\n",
        "trudeau_tweet_pred = tfidf_svc.predict(trudeau_tweet_vectorized)\n",
        "\n",
        "print(\"Predicted Trump tweet\", trump_tweet_pred)\n",
        "print(\"Predicted Trudeau tweet\", trudeau_tweet_pred)"
      ],
      "id": "cell-16"
    }
  ],
  "nbformat": 4,
  "nbformat_minor": 5,
  "metadata": {
    "kernelspec": {
      "name": "python3",
      "display_name": "Python 3",
      "language": "python"
    },
    "language_info": {
      "name": "python",
      "codemirror_mode": {
        "name": "ipython",
        "version": "3"
      },
      "file_extension": ".py",
      "mimetype": "text/x-python",
      "nbconvert_exporter": "python",
      "pygments_lexer": "ipython3",
      "version": "3.5.2"
    }
  }
}
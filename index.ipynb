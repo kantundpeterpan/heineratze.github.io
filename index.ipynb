{
  "cells": [
    {
      "cell_type": "markdown",
      "metadata": {},
      "source": [
        "# Heiner Atze, PhD, Pharmacist\n",
        "\n",
        "This is a Quarto website.\n",
        "\n",
        "To learn more about Quarto websites visit\n",
        "<https://quarto.org/docs/websites>.\n",
        "\n",
        "jdaskölfs"
      ],
      "id": "89146806-41e8-4170-b242-a8647ce79c63"
    }
  ],
  "nbformat": 4,
  "nbformat_minor": 5,
  "metadata": {
    "kernelspec": {
      "display_name": "Python 3",
      "language": "python",
      "name": "python3"
    }
  }
}
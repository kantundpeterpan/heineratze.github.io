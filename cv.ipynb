{
  "cells": [
    {
      "cell_type": "markdown",
      "metadata": {},
      "source": [
        "# Isaac Newtons’s CV\n",
        "\n",
        "# Isaac Newton\n",
        "\n",
        "Physicist, Mathematician, Cambridge professor.\n",
        "\n",
        "<a href=\"isaac@applesdofall.org\">isaac@applesdofall.org</a> \\|\n",
        "<a href=\"http://en.wikipedia.org/wiki/Isaac_Newton\">My wikipedia\n",
        "page</a>\n",
        "\n",
        "## Currently\n",
        "\n",
        "Standing on the shoulders of giants\n",
        "\n",
        "### Specialized in\n",
        "\n",
        "Laws of motion, gravitation, minting coins, disliking [Robert\n",
        "Hooke](http://en.wikipedia.org/wiki/Robert_Hooke)\n",
        "\n",
        "### Research interests\n",
        "\n",
        "Cooling, power series, optics, alchemy, planetary motions, apples.\n",
        "\n",
        "## Education\n",
        "\n",
        "`1654-1660` **The King’s School, Grantham.**\n",
        "\n",
        "`June 1661 - now` **Trinity College, Cambridge**\n",
        "\n",
        "-   Sizar\n",
        "\n",
        "`1667 - death` **Trinity College, Cambridge**\n",
        "\n",
        "-   Fellow\n",
        "\n",
        "## Awards\n",
        "\n",
        "`2012` President, *Royal Society*, London, UK\n",
        "\n",
        "Associate, *French Academy of Science*, Paris, France\n",
        "\n",
        "## Publications"
      ],
      "id": "f5e8ce61-c9aa-4a8f-952c-f383d480816d"
    },
    {
      "cell_type": "raw",
      "metadata": {
        "raw_mimetype": "text/html"
      },
      "source": [
        "<!-- A list is also available [online](http://scholar.google.co.uk/citations?user=LTOTl0YAAAAJ) -->"
      ],
      "id": "6207c459-e6d5-48d7-8295-b32cff0b11d6"
    },
    {
      "cell_type": "markdown",
      "metadata": {},
      "source": [
        "### Journals\n",
        "\n",
        "`1669` Newton Sir I, De analysi per æquationes numero terminorum\n",
        "infinitas.\n",
        "\n",
        "`1669` Lectiones opticæ.\n",
        "\n",
        "etc. etc. etc.\n",
        "\n",
        "### Patents\n",
        "\n",
        "`2012` Infinitesimal calculus for solutions to physics problems,\n",
        "[SMBC](http://www.techdirt.com/articles/20121011/09312820678/if-patents-had-been-around-time-newton.shtml)\n",
        "patent 001\n",
        "\n",
        "## Occupation\n",
        "\n",
        "`1600` **Royal Mint**, London\n",
        "\n",
        "-   Warden\n",
        "-   Minted coins\n",
        "\n",
        "`1600` **Lucasian professor of Mathematics**, Cambridge University"
      ],
      "id": "e1c591ee-9bad-411a-9e7a-0dc15a2c202e"
    },
    {
      "cell_type": "raw",
      "metadata": {
        "raw_mimetype": "text/html"
      },
      "source": [
        "<!-- ### Footer\n",
        "\n",
        "Last updated: May 2013 -->"
      ],
      "id": "f9e71793-c089-423a-ae3a-9285c1df9b07"
    }
  ],
  "nbformat": 4,
  "nbformat_minor": 5,
  "metadata": {
    "kernelspec": {
      "display_name": "Python 3",
      "language": "python",
      "name": "python3"
    }
  }
}
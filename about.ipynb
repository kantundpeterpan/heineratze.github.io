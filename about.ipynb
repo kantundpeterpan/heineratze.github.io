{
  "cells": [
    {
      "cell_type": "markdown",
      "metadata": {},
      "source": [
        "# About\n",
        "\n",
        "About this site"
      ],
      "id": "8e0f7a3f-e7a1-453a-81e2-6de3969c712d"
    }
  ],
  "nbformat": 4,
  "nbformat_minor": 5,
  "metadata": {
    "kernelspec": {
      "display_name": "Python 3",
      "language": "python",
      "name": "python3"
    }
  }
}